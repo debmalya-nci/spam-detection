{
 "cells": [
  {
   "cell_type": "code",
   "execution_count": 1,
   "id": "378ec2db",
   "metadata": {},
   "outputs": [],
   "source": [
    "#imports numpy library\n",
    "#imports pandas library\n",
    "#imports LabelEncoder class from the sklearn.preprocessing module\n",
    "#imports matplotlib.pyplot module\n",
    "#imports nltk package, which provides resources for natural language processing\n",
    "#imports Seaborn data visualization library\n",
    "#imports PorterStemmer to avoid the stemming\n",
    "#imports the stopwords module from the nltk.corpus package.\n",
    "#imports built-in string module in Python.\n",
    "#imports the WordCloud class from the wordcloud package\n",
    "#Imports counter\n",
    "#imports classes for vectorizing text data into numerical feature vectors\n",
    "#imports function to split a dataset into training and testing sets\n",
    "#imports decision tree algorithm for classification tasks\n",
    "#imports random forest algorithm for classification tasks\n",
    "#imports GaussianNB, MultinomialNB and BernoulliNB from sklearn.naive_bayes\n",
    "\n",
    "import numpy as np\n",
    "import pandas as pd\n",
    "from sklearn.preprocessing import LabelEncoder\n",
    "import matplotlib.pyplot as plt\n",
    "import nltk\n",
    "import seaborn as sns\n",
    "from nltk.stem.porter import PorterStemmer\n",
    "from nltk.corpus import stopwords\n",
    "import string\n",
    "from wordcloud import WordCloud\n",
    "from collections import Counter\n",
    "from sklearn.feature_extraction.text import CountVectorizer,TfidfVectorizer\n",
    "from sklearn.model_selection import train_test_split\n",
    "from sklearn.tree import DecisionTreeClassifier\n",
    "from sklearn.ensemble import RandomForestClassifier\n",
    "from sklearn.metrics import accuracy_score,precision_score,f1_score,recall_score\n",
    "from sklearn.naive_bayes import GaussianNB,MultinomialNB,BernoulliNB"
   ]
  },
  {
   "cell_type": "code",
   "execution_count": 2,
   "id": "0a1870de",
   "metadata": {},
   "outputs": [],
   "source": [
    "#reading the dataset\n",
    "df = pd.read_csv('SMS Spam Collection.csv', encoding='ISO-8859-1')"
   ]
  },
  {
   "cell_type": "code",
   "execution_count": 3,
   "id": "16c9eff6",
   "metadata": {},
   "outputs": [
    {
     "data": {
      "text/html": [
       "<div>\n",
       "<style scoped>\n",
       "    .dataframe tbody tr th:only-of-type {\n",
       "        vertical-align: middle;\n",
       "    }\n",
       "\n",
       "    .dataframe tbody tr th {\n",
       "        vertical-align: top;\n",
       "    }\n",
       "\n",
       "    .dataframe thead th {\n",
       "        text-align: right;\n",
       "    }\n",
       "</style>\n",
       "<table border=\"1\" class=\"dataframe\">\n",
       "  <thead>\n",
       "    <tr style=\"text-align: right;\">\n",
       "      <th></th>\n",
       "      <th>v1</th>\n",
       "      <th>v2</th>\n",
       "      <th>Unnamed: 2</th>\n",
       "      <th>Unnamed: 3</th>\n",
       "      <th>Unnamed: 4</th>\n",
       "    </tr>\n",
       "  </thead>\n",
       "  <tbody>\n",
       "    <tr>\n",
       "      <th>0</th>\n",
       "      <td>ham</td>\n",
       "      <td>Go until jurong point, crazy.. Available only ...</td>\n",
       "      <td>NaN</td>\n",
       "      <td>NaN</td>\n",
       "      <td>NaN</td>\n",
       "    </tr>\n",
       "    <tr>\n",
       "      <th>1</th>\n",
       "      <td>ham</td>\n",
       "      <td>Ok lar... Joking wif u oni...</td>\n",
       "      <td>NaN</td>\n",
       "      <td>NaN</td>\n",
       "      <td>NaN</td>\n",
       "    </tr>\n",
       "    <tr>\n",
       "      <th>2</th>\n",
       "      <td>spam</td>\n",
       "      <td>Free entry in 2 a wkly comp to win FA Cup fina...</td>\n",
       "      <td>NaN</td>\n",
       "      <td>NaN</td>\n",
       "      <td>NaN</td>\n",
       "    </tr>\n",
       "    <tr>\n",
       "      <th>3</th>\n",
       "      <td>ham</td>\n",
       "      <td>U dun say so early hor... U c already then say...</td>\n",
       "      <td>NaN</td>\n",
       "      <td>NaN</td>\n",
       "      <td>NaN</td>\n",
       "    </tr>\n",
       "    <tr>\n",
       "      <th>4</th>\n",
       "      <td>ham</td>\n",
       "      <td>Nah I don't think he goes to usf, he lives aro...</td>\n",
       "      <td>NaN</td>\n",
       "      <td>NaN</td>\n",
       "      <td>NaN</td>\n",
       "    </tr>\n",
       "  </tbody>\n",
       "</table>\n",
       "</div>"
      ],
      "text/plain": [
       "     v1                                                 v2 Unnamed: 2  \\\n",
       "0   ham  Go until jurong point, crazy.. Available only ...        NaN   \n",
       "1   ham                      Ok lar... Joking wif u oni...        NaN   \n",
       "2  spam  Free entry in 2 a wkly comp to win FA Cup fina...        NaN   \n",
       "3   ham  U dun say so early hor... U c already then say...        NaN   \n",
       "4   ham  Nah I don't think he goes to usf, he lives aro...        NaN   \n",
       "\n",
       "  Unnamed: 3 Unnamed: 4  \n",
       "0        NaN        NaN  \n",
       "1        NaN        NaN  \n",
       "2        NaN        NaN  \n",
       "3        NaN        NaN  \n",
       "4        NaN        NaN  "
      ]
     },
     "execution_count": 3,
     "metadata": {},
     "output_type": "execute_result"
    }
   ],
   "source": [
    "#checking the data head\n",
    "df.head()"
   ]
  },
  {
   "cell_type": "markdown",
   "id": "45ef73d1",
   "metadata": {},
   "source": [
    "# Data Cleaning"
   ]
  },
  {
   "cell_type": "code",
   "execution_count": 4,
   "id": "9da78ab2",
   "metadata": {},
   "outputs": [],
   "source": [
    "#Three unnamed columns are there which need to be dropped\n",
    "df.drop(columns=['Unnamed: 2','Unnamed: 3','Unnamed: 4'],inplace=True)"
   ]
  },
  {
   "cell_type": "code",
   "execution_count": 5,
   "id": "e7cae589",
   "metadata": {},
   "outputs": [
    {
     "data": {
      "text/html": [
       "<div>\n",
       "<style scoped>\n",
       "    .dataframe tbody tr th:only-of-type {\n",
       "        vertical-align: middle;\n",
       "    }\n",
       "\n",
       "    .dataframe tbody tr th {\n",
       "        vertical-align: top;\n",
       "    }\n",
       "\n",
       "    .dataframe thead th {\n",
       "        text-align: right;\n",
       "    }\n",
       "</style>\n",
       "<table border=\"1\" class=\"dataframe\">\n",
       "  <thead>\n",
       "    <tr style=\"text-align: right;\">\n",
       "      <th></th>\n",
       "      <th>v1</th>\n",
       "      <th>v2</th>\n",
       "    </tr>\n",
       "  </thead>\n",
       "  <tbody>\n",
       "    <tr>\n",
       "      <th>0</th>\n",
       "      <td>ham</td>\n",
       "      <td>Go until jurong point, crazy.. Available only ...</td>\n",
       "    </tr>\n",
       "    <tr>\n",
       "      <th>1</th>\n",
       "      <td>ham</td>\n",
       "      <td>Ok lar... Joking wif u oni...</td>\n",
       "    </tr>\n",
       "    <tr>\n",
       "      <th>2</th>\n",
       "      <td>spam</td>\n",
       "      <td>Free entry in 2 a wkly comp to win FA Cup fina...</td>\n",
       "    </tr>\n",
       "    <tr>\n",
       "      <th>3</th>\n",
       "      <td>ham</td>\n",
       "      <td>U dun say so early hor... U c already then say...</td>\n",
       "    </tr>\n",
       "    <tr>\n",
       "      <th>4</th>\n",
       "      <td>ham</td>\n",
       "      <td>Nah I don't think he goes to usf, he lives aro...</td>\n",
       "    </tr>\n",
       "  </tbody>\n",
       "</table>\n",
       "</div>"
      ],
      "text/plain": [
       "     v1                                                 v2\n",
       "0   ham  Go until jurong point, crazy.. Available only ...\n",
       "1   ham                      Ok lar... Joking wif u oni...\n",
       "2  spam  Free entry in 2 a wkly comp to win FA Cup fina...\n",
       "3   ham  U dun say so early hor... U c already then say...\n",
       "4   ham  Nah I don't think he goes to usf, he lives aro..."
      ]
     },
     "execution_count": 5,
     "metadata": {},
     "output_type": "execute_result"
    }
   ],
   "source": [
    "#checking the data head after dropping the columns\n",
    "df.head()"
   ]
  },
  {
   "cell_type": "code",
   "execution_count": 6,
   "id": "a7f05057",
   "metadata": {},
   "outputs": [],
   "source": [
    "# Changing the column names\n",
    "df.rename(columns={'v1':'detect','v2':'sms'}, inplace=True)"
   ]
  },
  {
   "cell_type": "code",
   "execution_count": 7,
   "id": "b388d571",
   "metadata": {},
   "outputs": [
    {
     "data": {
      "text/html": [
       "<div>\n",
       "<style scoped>\n",
       "    .dataframe tbody tr th:only-of-type {\n",
       "        vertical-align: middle;\n",
       "    }\n",
       "\n",
       "    .dataframe tbody tr th {\n",
       "        vertical-align: top;\n",
       "    }\n",
       "\n",
       "    .dataframe thead th {\n",
       "        text-align: right;\n",
       "    }\n",
       "</style>\n",
       "<table border=\"1\" class=\"dataframe\">\n",
       "  <thead>\n",
       "    <tr style=\"text-align: right;\">\n",
       "      <th></th>\n",
       "      <th>detect</th>\n",
       "      <th>sms</th>\n",
       "    </tr>\n",
       "  </thead>\n",
       "  <tbody>\n",
       "    <tr>\n",
       "      <th>0</th>\n",
       "      <td>ham</td>\n",
       "      <td>Go until jurong point, crazy.. Available only ...</td>\n",
       "    </tr>\n",
       "    <tr>\n",
       "      <th>1</th>\n",
       "      <td>ham</td>\n",
       "      <td>Ok lar... Joking wif u oni...</td>\n",
       "    </tr>\n",
       "    <tr>\n",
       "      <th>2</th>\n",
       "      <td>spam</td>\n",
       "      <td>Free entry in 2 a wkly comp to win FA Cup fina...</td>\n",
       "    </tr>\n",
       "    <tr>\n",
       "      <th>3</th>\n",
       "      <td>ham</td>\n",
       "      <td>U dun say so early hor... U c already then say...</td>\n",
       "    </tr>\n",
       "    <tr>\n",
       "      <th>4</th>\n",
       "      <td>ham</td>\n",
       "      <td>Nah I don't think he goes to usf, he lives aro...</td>\n",
       "    </tr>\n",
       "  </tbody>\n",
       "</table>\n",
       "</div>"
      ],
      "text/plain": [
       "  detect                                                sms\n",
       "0    ham  Go until jurong point, crazy.. Available only ...\n",
       "1    ham                      Ok lar... Joking wif u oni...\n",
       "2   spam  Free entry in 2 a wkly comp to win FA Cup fina...\n",
       "3    ham  U dun say so early hor... U c already then say...\n",
       "4    ham  Nah I don't think he goes to usf, he lives aro..."
      ]
     },
     "execution_count": 7,
     "metadata": {},
     "output_type": "execute_result"
    }
   ],
   "source": [
    "df.head()"
   ]
  },
  {
   "cell_type": "code",
   "execution_count": 8,
   "id": "eb325f00",
   "metadata": {},
   "outputs": [],
   "source": [
    "#Creating an instance of LabelEncoder called encoder\n",
    "encoder = LabelEncoder()"
   ]
  },
  {
   "cell_type": "code",
   "execution_count": 9,
   "id": "61ad9282",
   "metadata": {},
   "outputs": [],
   "source": [
    "#encoding the values in the 'detect' column\n",
    "df['detect'] = encoder.fit_transform(df['detect'])"
   ]
  },
  {
   "cell_type": "code",
   "execution_count": 10,
   "id": "b851f45b",
   "metadata": {},
   "outputs": [
    {
     "data": {
      "text/html": [
       "<div>\n",
       "<style scoped>\n",
       "    .dataframe tbody tr th:only-of-type {\n",
       "        vertical-align: middle;\n",
       "    }\n",
       "\n",
       "    .dataframe tbody tr th {\n",
       "        vertical-align: top;\n",
       "    }\n",
       "\n",
       "    .dataframe thead th {\n",
       "        text-align: right;\n",
       "    }\n",
       "</style>\n",
       "<table border=\"1\" class=\"dataframe\">\n",
       "  <thead>\n",
       "    <tr style=\"text-align: right;\">\n",
       "      <th></th>\n",
       "      <th>detect</th>\n",
       "      <th>sms</th>\n",
       "    </tr>\n",
       "  </thead>\n",
       "  <tbody>\n",
       "    <tr>\n",
       "      <th>0</th>\n",
       "      <td>0</td>\n",
       "      <td>Go until jurong point, crazy.. Available only ...</td>\n",
       "    </tr>\n",
       "    <tr>\n",
       "      <th>1</th>\n",
       "      <td>0</td>\n",
       "      <td>Ok lar... Joking wif u oni...</td>\n",
       "    </tr>\n",
       "    <tr>\n",
       "      <th>2</th>\n",
       "      <td>1</td>\n",
       "      <td>Free entry in 2 a wkly comp to win FA Cup fina...</td>\n",
       "    </tr>\n",
       "    <tr>\n",
       "      <th>3</th>\n",
       "      <td>0</td>\n",
       "      <td>U dun say so early hor... U c already then say...</td>\n",
       "    </tr>\n",
       "    <tr>\n",
       "      <th>4</th>\n",
       "      <td>0</td>\n",
       "      <td>Nah I don't think he goes to usf, he lives aro...</td>\n",
       "    </tr>\n",
       "  </tbody>\n",
       "</table>\n",
       "</div>"
      ],
      "text/plain": [
       "   detect                                                sms\n",
       "0       0  Go until jurong point, crazy.. Available only ...\n",
       "1       0                      Ok lar... Joking wif u oni...\n",
       "2       1  Free entry in 2 a wkly comp to win FA Cup fina...\n",
       "3       0  U dun say so early hor... U c already then say...\n",
       "4       0  Nah I don't think he goes to usf, he lives aro..."
      ]
     },
     "execution_count": 10,
     "metadata": {},
     "output_type": "execute_result"
    }
   ],
   "source": [
    "df.head()"
   ]
  },
  {
   "cell_type": "code",
   "execution_count": 11,
   "id": "37140b96",
   "metadata": {},
   "outputs": [
    {
     "data": {
      "text/plain": [
       "detect    0\n",
       "sms       0\n",
       "dtype: int64"
      ]
     },
     "execution_count": 11,
     "metadata": {},
     "output_type": "execute_result"
    }
   ],
   "source": [
    "#finding the missing values\n",
    "df.isnull().sum()"
   ]
  },
  {
   "cell_type": "code",
   "execution_count": 12,
   "id": "70e9183d",
   "metadata": {},
   "outputs": [
    {
     "data": {
      "text/plain": [
       "346"
      ]
     },
     "execution_count": 12,
     "metadata": {},
     "output_type": "execute_result"
    }
   ],
   "source": [
    "#checking the duplicate values\n",
    "df.duplicated().sum()"
   ]
  },
  {
   "cell_type": "code",
   "execution_count": 13,
   "id": "b8cfb1ce",
   "metadata": {},
   "outputs": [],
   "source": [
    "#removing the duplicate data\n",
    "df = df.drop_duplicates(keep='first')"
   ]
  },
  {
   "cell_type": "code",
   "execution_count": 14,
   "id": "116e28ad",
   "metadata": {},
   "outputs": [
    {
     "data": {
      "text/plain": [
       "0"
      ]
     },
     "execution_count": 14,
     "metadata": {},
     "output_type": "execute_result"
    }
   ],
   "source": [
    "#checking again the duplicate values which should be ZERO now\n",
    "df.duplicated().sum()"
   ]
  },
  {
   "cell_type": "markdown",
   "id": "aacdb566",
   "metadata": {},
   "source": [
    "# Exploratory Data Analysis(EDA)"
   ]
  },
  {
   "cell_type": "code",
   "execution_count": 15,
   "id": "9106ae46",
   "metadata": {},
   "outputs": [
    {
     "data": {
      "text/plain": [
       "0    4057\n",
       "1     579\n",
       "Name: detect, dtype: int64"
      ]
     },
     "execution_count": 15,
     "metadata": {},
     "output_type": "execute_result"
    }
   ],
   "source": [
    "#counting the total number of ham and spam value\n",
    "df['detect'].value_counts()"
   ]
  },
  {
   "cell_type": "code",
   "execution_count": 16,
   "id": "76f26aee",
   "metadata": {},
   "outputs": [
    {
     "data": {
      "image/png": "[encoded data removed]",
      "text/plain": [
       "<Figure size 432x288 with 1 Axes>"
      ]
     },
     "metadata": {},
     "output_type": "display_data"
    }
   ],
   "source": [
    "#creating pie chart to visualize the distribution of values in the 'detect' for ham and spam sms data\n",
    "plt.pie(df['detect'].value_counts(), labels=['ham','spam'],autopct=\"%0.2f\")\n",
    "#show thepie chart\n",
    "plt.show()"
   ]
  },
  {
   "cell_type": "code",
   "execution_count": 17,
   "id": "7c14e308",
   "metadata": {},
   "outputs": [
    {
     "data": {
      "image/png": "[encoded data removed]",
      "text/plain": [
       "<Figure size 432x288 with 1 Axes>"
      ]
     },
     "metadata": {
      "needs_background": "light"
     },
     "output_type": "display_data"
    }
   ],
   "source": [
    "#generating a bar chart of the 'detect' column in the DataFrame 'df' using Seaborn's countplot() function\n",
    "sns.countplot(data=df, x='detect')\n",
    "plt.xlabel('Type of Message')\n",
    "plt.ylabel('Count')\n",
    "plt.xticks([0, 1], ['ham', 'spam'])\n",
    "plt.show()"
   ]
  },
  {
   "cell_type": "code",
   "execution_count": 18,
   "id": "0bee24b9",
   "metadata": {},
   "outputs": [],
   "source": [
    "#adding a new column to the DataFrame containing the number of characters in each sms\n",
    "df['character_number'] = df['sms'].apply(len)"
   ]
  },
  {
   "cell_type": "code",
   "execution_count": 19,
   "id": "fc77322b",
   "metadata": {},
   "outputs": [
    {
     "data": {
      "text/html": [
       "<div>\n",
       "<style scoped>\n",
       "    .dataframe tbody tr th:only-of-type {\n",
       "        vertical-align: middle;\n",
       "    }\n",
       "\n",
       "    .dataframe tbody tr th {\n",
       "        vertical-align: top;\n",
       "    }\n",
       "\n",
       "    .dataframe thead th {\n",
       "        text-align: right;\n",
       "    }\n",
       "</style>\n",
       "<table border=\"1\" class=\"dataframe\">\n",
       "  <thead>\n",
       "    <tr style=\"text-align: right;\">\n",
       "      <th></th>\n",
       "      <th>detect</th>\n",
       "      <th>sms</th>\n",
       "      <th>character_number</th>\n",
       "    </tr>\n",
       "  </thead>\n",
       "  <tbody>\n",
       "    <tr>\n",
       "      <th>3728</th>\n",
       "      <td>0</td>\n",
       "      <td>Aight I've been set free, think you could text...</td>\n",
       "      <td>138</td>\n",
       "    </tr>\n",
       "    <tr>\n",
       "      <th>2067</th>\n",
       "      <td>0</td>\n",
       "      <td>Alright, see you in a bit</td>\n",
       "      <td>25</td>\n",
       "    </tr>\n",
       "    <tr>\n",
       "      <th>627</th>\n",
       "      <td>0</td>\n",
       "      <td>Yup i thk they r e teacher said that will make...</td>\n",
       "      <td>102</td>\n",
       "    </tr>\n",
       "    <tr>\n",
       "      <th>1066</th>\n",
       "      <td>0</td>\n",
       "      <td>Oh:)as usual vijay film or its different?</td>\n",
       "      <td>41</td>\n",
       "    </tr>\n",
       "    <tr>\n",
       "      <th>970</th>\n",
       "      <td>1</td>\n",
       "      <td>We know someone who you know that fancies you....</td>\n",
       "      <td>101</td>\n",
       "    </tr>\n",
       "    <tr>\n",
       "      <th>4713</th>\n",
       "      <td>0</td>\n",
       "      <td>\\OH FUCK. JUSWOKE UP IN A BED ON A BOATIN THE ...</td>\n",
       "      <td>112</td>\n",
       "    </tr>\n",
       "    <tr>\n",
       "      <th>1532</th>\n",
       "      <td>0</td>\n",
       "      <td>Ok no prob... I'll come after lunch then...</td>\n",
       "      <td>43</td>\n",
       "    </tr>\n",
       "  </tbody>\n",
       "</table>\n",
       "</div>"
      ],
      "text/plain": [
       "      detect                                                sms  \\\n",
       "3728       0  Aight I've been set free, think you could text...   \n",
       "2067       0                          Alright, see you in a bit   \n",
       "627        0  Yup i thk they r e teacher said that will make...   \n",
       "1066       0          Oh:)as usual vijay film or its different?   \n",
       "970        1  We know someone who you know that fancies you....   \n",
       "4713       0  \\OH FUCK. JUSWOKE UP IN A BED ON A BOATIN THE ...   \n",
       "1532       0        Ok no prob... I'll come after lunch then...   \n",
       "\n",
       "      character_number  \n",
       "3728               138  \n",
       "2067                25  \n",
       "627                102  \n",
       "1066                41  \n",
       "970                101  \n",
       "4713               112  \n",
       "1532                43  "
      ]
     },
     "execution_count": 19,
     "metadata": {},
     "output_type": "execute_result"
    }
   ],
   "source": [
    "df.sample(7)"
   ]
  },
  {
   "cell_type": "code",
   "execution_count": 20,
   "id": "cef7c473",
   "metadata": {},
   "outputs": [],
   "source": [
    "#adding a new column to the DataFrame containing the number of words in each sms\n",
    "df['word_number'] = df['sms'].apply(lambda x:len(nltk.word_tokenize(x)))"
   ]
  },
  {
   "cell_type": "code",
   "execution_count": 21,
   "id": "c6fffff5",
   "metadata": {},
   "outputs": [
    {
     "data": {
      "text/html": [
       "<div>\n",
       "<style scoped>\n",
       "    .dataframe tbody tr th:only-of-type {\n",
       "        vertical-align: middle;\n",
       "    }\n",
       "\n",
       "    .dataframe tbody tr th {\n",
       "        vertical-align: top;\n",
       "    }\n",
       "\n",
       "    .dataframe thead th {\n",
       "        text-align: right;\n",
       "    }\n",
       "</style>\n",
       "<table border=\"1\" class=\"dataframe\">\n",
       "  <thead>\n",
       "    <tr style=\"text-align: right;\">\n",
       "      <th></th>\n",
       "      <th>detect</th>\n",
       "      <th>sms</th>\n",
       "      <th>character_number</th>\n",
       "      <th>word_number</th>\n",
       "    </tr>\n",
       "  </thead>\n",
       "  <tbody>\n",
       "    <tr>\n",
       "      <th>2375</th>\n",
       "      <td>0</td>\n",
       "      <td>Em, its olowoyey@ usc.edu have a great time in...</td>\n",
       "      <td>107</td>\n",
       "      <td>22</td>\n",
       "    </tr>\n",
       "    <tr>\n",
       "      <th>296</th>\n",
       "      <td>0</td>\n",
       "      <td>Unless it's a situation where YOU GO GURL woul...</td>\n",
       "      <td>67</td>\n",
       "      <td>13</td>\n",
       "    </tr>\n",
       "    <tr>\n",
       "      <th>4522</th>\n",
       "      <td>0</td>\n",
       "      <td>I want to go to perumbavoor</td>\n",
       "      <td>27</td>\n",
       "      <td>6</td>\n",
       "    </tr>\n",
       "    <tr>\n",
       "      <th>4870</th>\n",
       "      <td>1</td>\n",
       "      <td>You have 1 new message. Call 0207-083-6089</td>\n",
       "      <td>42</td>\n",
       "      <td>8</td>\n",
       "    </tr>\n",
       "    <tr>\n",
       "      <th>666</th>\n",
       "      <td>0</td>\n",
       "      <td>Carlos'll be here in a minute if you still nee...</td>\n",
       "      <td>54</td>\n",
       "      <td>13</td>\n",
       "    </tr>\n",
       "    <tr>\n",
       "      <th>576</th>\n",
       "      <td>0</td>\n",
       "      <td>I'm tired of arguing with you about this week ...</td>\n",
       "      <td>109</td>\n",
       "      <td>28</td>\n",
       "    </tr>\n",
       "    <tr>\n",
       "      <th>1925</th>\n",
       "      <td>0</td>\n",
       "      <td>Not much, just some textin'. How bout you?</td>\n",
       "      <td>42</td>\n",
       "      <td>12</td>\n",
       "    </tr>\n",
       "  </tbody>\n",
       "</table>\n",
       "</div>"
      ],
      "text/plain": [
       "      detect                                                sms  \\\n",
       "2375       0  Em, its olowoyey@ usc.edu have a great time in...   \n",
       "296        0  Unless it's a situation where YOU GO GURL woul...   \n",
       "4522       0                        I want to go to perumbavoor   \n",
       "4870       1         You have 1 new message. Call 0207-083-6089   \n",
       "666        0  Carlos'll be here in a minute if you still nee...   \n",
       "576        0  I'm tired of arguing with you about this week ...   \n",
       "1925       0         Not much, just some textin'. How bout you?   \n",
       "\n",
       "      character_number  word_number  \n",
       "2375               107           22  \n",
       "296                 67           13  \n",
       "4522                27            6  \n",
       "4870                42            8  \n",
       "666                 54           13  \n",
       "576                109           28  \n",
       "1925                42           12  "
      ]
     },
     "execution_count": 21,
     "metadata": {},
     "output_type": "execute_result"
    }
   ],
   "source": [
    "df.sample(7)"
   ]
  },
  {
   "cell_type": "code",
   "execution_count": 22,
   "id": "7b28a340",
   "metadata": {},
   "outputs": [],
   "source": [
    "#adding a new column to the DataFrame containing the number of sentences in each sms\n",
    "df['sentence_number'] = df['sms'].apply(lambda x:len(nltk.sent_tokenize(x)))"
   ]
  },
  {
   "cell_type": "code",
   "execution_count": 23,
   "id": "33ad99f1",
   "metadata": {},
   "outputs": [
    {
     "data": {
      "text/html": [
       "<div>\n",
       "<style scoped>\n",
       "    .dataframe tbody tr th:only-of-type {\n",
       "        vertical-align: middle;\n",
       "    }\n",
       "\n",
       "    .dataframe tbody tr th {\n",
       "        vertical-align: top;\n",
       "    }\n",
       "\n",
       "    .dataframe thead th {\n",
       "        text-align: right;\n",
       "    }\n",
       "</style>\n",
       "<table border=\"1\" class=\"dataframe\">\n",
       "  <thead>\n",
       "    <tr style=\"text-align: right;\">\n",
       "      <th></th>\n",
       "      <th>detect</th>\n",
       "      <th>sms</th>\n",
       "      <th>character_number</th>\n",
       "      <th>word_number</th>\n",
       "      <th>sentence_number</th>\n",
       "    </tr>\n",
       "  </thead>\n",
       "  <tbody>\n",
       "    <tr>\n",
       "      <th>1427</th>\n",
       "      <td>1</td>\n",
       "      <td>HOT LIVE FANTASIES call now 08707509020 Just 2...</td>\n",
       "      <td>122</td>\n",
       "      <td>25</td>\n",
       "      <td>1</td>\n",
       "    </tr>\n",
       "    <tr>\n",
       "      <th>1118</th>\n",
       "      <td>0</td>\n",
       "      <td>I was up all night too worrying about this app...</td>\n",
       "      <td>133</td>\n",
       "      <td>30</td>\n",
       "      <td>2</td>\n",
       "    </tr>\n",
       "    <tr>\n",
       "      <th>2092</th>\n",
       "      <td>1</td>\n",
       "      <td>Fantasy Football is back on your TV. Go to Sky...</td>\n",
       "      <td>164</td>\n",
       "      <td>35</td>\n",
       "      <td>3</td>\n",
       "    </tr>\n",
       "    <tr>\n",
       "      <th>2564</th>\n",
       "      <td>0</td>\n",
       "      <td>Nice.nice.how is it working?</td>\n",
       "      <td>28</td>\n",
       "      <td>5</td>\n",
       "      <td>1</td>\n",
       "    </tr>\n",
       "    <tr>\n",
       "      <th>823</th>\n",
       "      <td>1</td>\n",
       "      <td>25p 4 alfie Moon's Children in need song on ur...</td>\n",
       "      <td>161</td>\n",
       "      <td>36</td>\n",
       "      <td>3</td>\n",
       "    </tr>\n",
       "    <tr>\n",
       "      <th>1306</th>\n",
       "      <td>0</td>\n",
       "      <td>i dnt wnt to tlk wid u</td>\n",
       "      <td>22</td>\n",
       "      <td>7</td>\n",
       "      <td>1</td>\n",
       "    </tr>\n",
       "    <tr>\n",
       "      <th>4679</th>\n",
       "      <td>1</td>\n",
       "      <td>Our records indicate u maybe entitled to 5000 ...</td>\n",
       "      <td>156</td>\n",
       "      <td>32</td>\n",
       "      <td>3</td>\n",
       "    </tr>\n",
       "  </tbody>\n",
       "</table>\n",
       "</div>"
      ],
      "text/plain": [
       "      detect                                                sms  \\\n",
       "1427       1  HOT LIVE FANTASIES call now 08707509020 Just 2...   \n",
       "1118       0  I was up all night too worrying about this app...   \n",
       "2092       1  Fantasy Football is back on your TV. Go to Sky...   \n",
       "2564       0                       Nice.nice.how is it working?   \n",
       "823        1  25p 4 alfie Moon's Children in need song on ur...   \n",
       "1306       0                             i dnt wnt to tlk wid u   \n",
       "4679       1  Our records indicate u maybe entitled to 5000 ...   \n",
       "\n",
       "      character_number  word_number  sentence_number  \n",
       "1427               122           25                1  \n",
       "1118               133           30                2  \n",
       "2092               164           35                3  \n",
       "2564                28            5                1  \n",
       "823                161           36                3  \n",
       "1306                22            7                1  \n",
       "4679               156           32                3  "
      ]
     },
     "execution_count": 23,
     "metadata": {},
     "output_type": "execute_result"
    }
   ],
   "source": [
    "df.sample(7)"
   ]
  },
  {
   "cell_type": "code",
   "execution_count": 24,
   "id": "cee407f7",
   "metadata": {},
   "outputs": [
    {
     "data": {
      "text/html": [
       "<div>\n",
       "<style scoped>\n",
       "    .dataframe tbody tr th:only-of-type {\n",
       "        vertical-align: middle;\n",
       "    }\n",
       "\n",
       "    .dataframe tbody tr th {\n",
       "        vertical-align: top;\n",
       "    }\n",
       "\n",
       "    .dataframe thead th {\n",
       "        text-align: right;\n",
       "    }\n",
       "</style>\n",
       "<table border=\"1\" class=\"dataframe\">\n",
       "  <thead>\n",
       "    <tr style=\"text-align: right;\">\n",
       "      <th></th>\n",
       "      <th>character_number</th>\n",
       "      <th>word_number</th>\n",
       "      <th>sentence_number</th>\n",
       "    </tr>\n",
       "  </thead>\n",
       "  <tbody>\n",
       "    <tr>\n",
       "      <th>count</th>\n",
       "      <td>4636.000000</td>\n",
       "      <td>4636.000000</td>\n",
       "      <td>4636.000000</td>\n",
       "    </tr>\n",
       "    <tr>\n",
       "      <th>mean</th>\n",
       "      <td>78.842752</td>\n",
       "      <td>18.374029</td>\n",
       "      <td>1.959016</td>\n",
       "    </tr>\n",
       "    <tr>\n",
       "      <th>std</th>\n",
       "      <td>57.605103</td>\n",
       "      <td>13.132151</td>\n",
       "      <td>1.441279</td>\n",
       "    </tr>\n",
       "    <tr>\n",
       "      <th>min</th>\n",
       "      <td>2.000000</td>\n",
       "      <td>1.000000</td>\n",
       "      <td>1.000000</td>\n",
       "    </tr>\n",
       "    <tr>\n",
       "      <th>25%</th>\n",
       "      <td>36.000000</td>\n",
       "      <td>9.000000</td>\n",
       "      <td>1.000000</td>\n",
       "    </tr>\n",
       "    <tr>\n",
       "      <th>50%</th>\n",
       "      <td>60.000000</td>\n",
       "      <td>15.000000</td>\n",
       "      <td>1.000000</td>\n",
       "    </tr>\n",
       "    <tr>\n",
       "      <th>75%</th>\n",
       "      <td>117.000000</td>\n",
       "      <td>26.000000</td>\n",
       "      <td>2.000000</td>\n",
       "    </tr>\n",
       "    <tr>\n",
       "      <th>max</th>\n",
       "      <td>910.000000</td>\n",
       "      <td>220.000000</td>\n",
       "      <td>38.000000</td>\n",
       "    </tr>\n",
       "  </tbody>\n",
       "</table>\n",
       "</div>"
      ],
      "text/plain": [
       "       character_number  word_number  sentence_number\n",
       "count       4636.000000  4636.000000      4636.000000\n",
       "mean          78.842752    18.374029         1.959016\n",
       "std           57.605103    13.132151         1.441279\n",
       "min            2.000000     1.000000         1.000000\n",
       "25%           36.000000     9.000000         1.000000\n",
       "50%           60.000000    15.000000         1.000000\n",
       "75%          117.000000    26.000000         2.000000\n",
       "max          910.000000   220.000000        38.000000"
      ]
     },
     "execution_count": 24,
     "metadata": {},
     "output_type": "execute_result"
    }
   ],
   "source": [
    "#generating descriptive statistics for the 'character_number', 'word_number', and 'sentence_number'\n",
    "df[['character_number','word_number','sentence_number']].describe()"
   ]
  },
  {
   "cell_type": "code",
   "execution_count": 25,
   "id": "e00ee7b4",
   "metadata": {},
   "outputs": [
    {
     "data": {
      "text/html": [
       "<div>\n",
       "<style scoped>\n",
       "    .dataframe tbody tr th:only-of-type {\n",
       "        vertical-align: middle;\n",
       "    }\n",
       "\n",
       "    .dataframe tbody tr th {\n",
       "        vertical-align: top;\n",
       "    }\n",
       "\n",
       "    .dataframe thead th {\n",
       "        text-align: right;\n",
       "    }\n",
       "</style>\n",
       "<table border=\"1\" class=\"dataframe\">\n",
       "  <thead>\n",
       "    <tr style=\"text-align: right;\">\n",
       "      <th></th>\n",
       "      <th>character_number</th>\n",
       "      <th>word_number</th>\n",
       "      <th>sentence_number</th>\n",
       "    </tr>\n",
       "  </thead>\n",
       "  <tbody>\n",
       "    <tr>\n",
       "      <th>count</th>\n",
       "      <td>4057.000000</td>\n",
       "      <td>4057.000000</td>\n",
       "      <td>4057.000000</td>\n",
       "    </tr>\n",
       "    <tr>\n",
       "      <th>mean</th>\n",
       "      <td>70.372443</td>\n",
       "      <td>17.054967</td>\n",
       "      <td>1.813655</td>\n",
       "    </tr>\n",
       "    <tr>\n",
       "      <th>std</th>\n",
       "      <td>55.511718</td>\n",
       "      <td>13.261543</td>\n",
       "      <td>1.373452</td>\n",
       "    </tr>\n",
       "    <tr>\n",
       "      <th>min</th>\n",
       "      <td>2.000000</td>\n",
       "      <td>1.000000</td>\n",
       "      <td>1.000000</td>\n",
       "    </tr>\n",
       "    <tr>\n",
       "      <th>25%</th>\n",
       "      <td>33.000000</td>\n",
       "      <td>8.000000</td>\n",
       "      <td>1.000000</td>\n",
       "    </tr>\n",
       "    <tr>\n",
       "      <th>50%</th>\n",
       "      <td>52.000000</td>\n",
       "      <td>13.000000</td>\n",
       "      <td>1.000000</td>\n",
       "    </tr>\n",
       "    <tr>\n",
       "      <th>75%</th>\n",
       "      <td>91.000000</td>\n",
       "      <td>22.000000</td>\n",
       "      <td>2.000000</td>\n",
       "    </tr>\n",
       "    <tr>\n",
       "      <th>max</th>\n",
       "      <td>910.000000</td>\n",
       "      <td>220.000000</td>\n",
       "      <td>38.000000</td>\n",
       "    </tr>\n",
       "  </tbody>\n",
       "</table>\n",
       "</div>"
      ],
      "text/plain": [
       "       character_number  word_number  sentence_number\n",
       "count       4057.000000  4057.000000      4057.000000\n",
       "mean          70.372443    17.054967         1.813655\n",
       "std           55.511718    13.261543         1.373452\n",
       "min            2.000000     1.000000         1.000000\n",
       "25%           33.000000     8.000000         1.000000\n",
       "50%           52.000000    13.000000         1.000000\n",
       "75%           91.000000    22.000000         2.000000\n",
       "max          910.000000   220.000000        38.000000"
      ]
     },
     "execution_count": 25,
     "metadata": {},
     "output_type": "execute_result"
    }
   ],
   "source": [
    "#generating descriptive statistics of HAM records for the 'character_number', 'word_number', and 'sentence_number'\n",
    "df[df['detect'] == 0][['character_number','word_number','sentence_number']].describe()"
   ]
  },
  {
   "cell_type": "code",
   "execution_count": 26,
   "id": "a665b6db",
   "metadata": {},
   "outputs": [
    {
     "data": {
      "text/html": [
       "<div>\n",
       "<style scoped>\n",
       "    .dataframe tbody tr th:only-of-type {\n",
       "        vertical-align: middle;\n",
       "    }\n",
       "\n",
       "    .dataframe tbody tr th {\n",
       "        vertical-align: top;\n",
       "    }\n",
       "\n",
       "    .dataframe thead th {\n",
       "        text-align: right;\n",
       "    }\n",
       "</style>\n",
       "<table border=\"1\" class=\"dataframe\">\n",
       "  <thead>\n",
       "    <tr style=\"text-align: right;\">\n",
       "      <th></th>\n",
       "      <th>character_number</th>\n",
       "      <th>word_number</th>\n",
       "      <th>sentence_number</th>\n",
       "    </tr>\n",
       "  </thead>\n",
       "  <tbody>\n",
       "    <tr>\n",
       "      <th>count</th>\n",
       "      <td>579.000000</td>\n",
       "      <td>579.000000</td>\n",
       "      <td>579.000000</td>\n",
       "    </tr>\n",
       "    <tr>\n",
       "      <th>mean</th>\n",
       "      <td>138.193437</td>\n",
       "      <td>27.616580</td>\n",
       "      <td>2.977547</td>\n",
       "    </tr>\n",
       "    <tr>\n",
       "      <th>std</th>\n",
       "      <td>30.880065</td>\n",
       "      <td>7.141535</td>\n",
       "      <td>1.494342</td>\n",
       "    </tr>\n",
       "    <tr>\n",
       "      <th>min</th>\n",
       "      <td>13.000000</td>\n",
       "      <td>2.000000</td>\n",
       "      <td>1.000000</td>\n",
       "    </tr>\n",
       "    <tr>\n",
       "      <th>25%</th>\n",
       "      <td>130.000000</td>\n",
       "      <td>25.000000</td>\n",
       "      <td>2.000000</td>\n",
       "    </tr>\n",
       "    <tr>\n",
       "      <th>50%</th>\n",
       "      <td>149.000000</td>\n",
       "      <td>29.000000</td>\n",
       "      <td>3.000000</td>\n",
       "    </tr>\n",
       "    <tr>\n",
       "      <th>75%</th>\n",
       "      <td>158.000000</td>\n",
       "      <td>32.000000</td>\n",
       "      <td>4.000000</td>\n",
       "    </tr>\n",
       "    <tr>\n",
       "      <th>max</th>\n",
       "      <td>226.000000</td>\n",
       "      <td>46.000000</td>\n",
       "      <td>9.000000</td>\n",
       "    </tr>\n",
       "  </tbody>\n",
       "</table>\n",
       "</div>"
      ],
      "text/plain": [
       "       character_number  word_number  sentence_number\n",
       "count        579.000000   579.000000       579.000000\n",
       "mean         138.193437    27.616580         2.977547\n",
       "std           30.880065     7.141535         1.494342\n",
       "min           13.000000     2.000000         1.000000\n",
       "25%          130.000000    25.000000         2.000000\n",
       "50%          149.000000    29.000000         3.000000\n",
       "75%          158.000000    32.000000         4.000000\n",
       "max          226.000000    46.000000         9.000000"
      ]
     },
     "execution_count": 26,
     "metadata": {},
     "output_type": "execute_result"
    }
   ],
   "source": [
    "# #generating descriptive statistics of SPAM records for the 'character_number', 'word_number', and 'sentence_number'\n",
    "df[df['detect'] == 1][['character_number','word_number','sentence_number']].describe()"
   ]
  },
  {
   "cell_type": "code",
   "execution_count": 27,
   "id": "bc70ac0a",
   "metadata": {},
   "outputs": [
    {
     "data": {
      "text/plain": [
       "<AxesSubplot:xlabel='character_number', ylabel='Count'>"
      ]
     },
     "execution_count": 27,
     "metadata": {},
     "output_type": "execute_result"
    },
    {
     "data": {
      "image/png": "[encoded data removed]",
      "text/plain": [
       "<Figure size 936x504 with 1 Axes>"
      ]
     },
     "metadata": {
      "needs_background": "light"
     },
     "output_type": "display_data"
    }
   ],
   "source": [
    "#Creating a figure with a specific size and generate two histograms of character counts for 'ham' and 'spam'\n",
    "plt.figure(figsize=(13,7))\n",
    "sns.histplot(df[df['detect'] == 0]['character_number'],color='yellow')\n",
    "sns.histplot(df[df['detect'] == 1]['character_number'],color='red')"
   ]
  },
  {
   "cell_type": "code",
   "execution_count": 28,
   "id": "b896a4a4",
   "metadata": {},
   "outputs": [
    {
     "data": {
      "text/plain": [
       "<AxesSubplot:xlabel='word_number', ylabel='Count'>"
      ]
     },
     "execution_count": 28,
     "metadata": {},
     "output_type": "execute_result"
    },
    {
     "data": {
      "image/png": "[encoded data removed]",
      "text/plain": [
       "<Figure size 936x504 with 1 Axes>"
      ]
     },
     "metadata": {
      "needs_background": "light"
     },
     "output_type": "display_data"
    }
   ],
   "source": [
    "plt.figure(figsize=(13,7))\n",
    "sns.histplot(df[df['detect'] == 0]['word_number'],color='yellow')\n",
    "sns.histplot(df[df['detect'] == 1]['word_number'],color='red')"
   ]
  },
  {
   "cell_type": "code",
   "execution_count": 29,
   "id": "4c96c0ee",
   "metadata": {},
   "outputs": [
    {
     "data": {
      "text/plain": [
       "<AxesSubplot:xlabel='sentence_number', ylabel='Count'>"
      ]
     },
     "execution_count": 29,
     "metadata": {},
     "output_type": "execute_result"
    },
    {
     "data": {
      "image/png": "[encoded data removed]",
      "text/plain": [
       "<Figure size 936x504 with 1 Axes>"
      ]
     },
     "metadata": {
      "needs_background": "light"
     },
     "output_type": "display_data"
    }
   ],
   "source": [
    "plt.figure(figsize=(13,7))\n",
    "sns.histplot(df[df['detect'] == 0]['sentence_number'],color='yellow')\n",
    "sns.histplot(df[df['detect'] == 1]['sentence_number'],color='red')"
   ]
  },
  {
   "cell_type": "code",
   "execution_count": 30,
   "id": "0f178c3f",
   "metadata": {},
   "outputs": [
    {
     "data": {
      "text/plain": [
       "<seaborn.axisgrid.PairGrid at 0x7fc591f96e80>"
      ]
     },
     "execution_count": 30,
     "metadata": {},
     "output_type": "execute_result"
    },
    {
     "data": {
      "image/png": "[encoded data removed]",
      "text/plain": [
       "<Figure size 582.375x540 with 12 Axes>"
      ]
     },
     "metadata": {
      "needs_background": "light"
     },
     "output_type": "display_data"
    }
   ],
   "source": [
    "#generating a pair plot using Seaborn's pairplot() function, with 'detect' used to differentiate between 'ham' and 'spam' messages\n",
    "sns.pairplot(df,hue='detect')\n"
   ]
  },
  {
   "cell_type": "code",
   "execution_count": 31,
   "id": "bba636bb",
   "metadata": {},
   "outputs": [
    {
     "data": {
      "text/plain": [
       "<AxesSubplot:>"
      ]
     },
     "execution_count": 31,
     "metadata": {},
     "output_type": "execute_result"
    },
    {
     "data": {
      "image/png": "[encoded data removed]",
      "text/plain": [
       "<Figure size 432x288 with 2 Axes>"
      ]
     },
     "metadata": {
      "needs_background": "light"
     },
     "output_type": "display_data"
    }
   ],
   "source": [
    "#generating heatmap of the correlation matrix using Seaborn's heatmap() function, with numerical values displayed on the plot\n",
    "sns.heatmap(df.corr(),annot=True)"
   ]
  },
  {
   "cell_type": "code",
   "execution_count": null,
   "id": "34375d5c",
   "metadata": {},
   "outputs": [],
   "source": []
  },
  {
   "cell_type": "markdown",
   "id": "b94902af",
   "metadata": {},
   "source": [
    "# Data Preprocessing"
   ]
  },
  {
   "cell_type": "code",
   "execution_count": 32,
   "id": "4a202f3d",
   "metadata": {},
   "outputs": [],
   "source": [
    "ps = PorterStemmer()\n",
    "def transform_sms(sms):\n",
    "    # Convert the string to lowercase\n",
    "    sms = sms.lower()\n",
    "    # Tokenize the string into words\n",
    "    sms = nltk.word_tokenize(sms)\n",
    "    \n",
    "    # Remove non-alphanumeric characters\n",
    "    y = []\n",
    "    for i in sms:\n",
    "        if i.isalnum():\n",
    "            y.append(i)\n",
    "    \n",
    "    # Remove stopwords and punctuation\n",
    "    sms = y[:]\n",
    "    y.clear()\n",
    "    \n",
    "    for i in sms:\n",
    "        if i not in stopwords.words('english') and i not in string.punctuation:\n",
    "            y.append(i)\n",
    "            \n",
    "    # Apply stemming to reduce words to their base form\n",
    "    sms = y[:]\n",
    "    y.clear()\n",
    "    \n",
    "    for i in sms:\n",
    "        y.append(ps.stem(i))\n",
    "    \n",
    "    # Join the words back into a single string        \n",
    "    return \" \".join(y)"
   ]
  },
  {
   "cell_type": "code",
   "execution_count": 33,
   "id": "e3700378",
   "metadata": {},
   "outputs": [],
   "source": [
    "df['transformed_sms'] = df['sms'].apply(transform_sms)"
   ]
  },
  {
   "cell_type": "code",
   "execution_count": 34,
   "id": "d10f0136",
   "metadata": {},
   "outputs": [
    {
     "data": {
      "text/html": [
       "<div>\n",
       "<style scoped>\n",
       "    .dataframe tbody tr th:only-of-type {\n",
       "        vertical-align: middle;\n",
       "    }\n",
       "\n",
       "    .dataframe tbody tr th {\n",
       "        vertical-align: top;\n",
       "    }\n",
       "\n",
       "    .dataframe thead th {\n",
       "        text-align: right;\n",
       "    }\n",
       "</style>\n",
       "<table border=\"1\" class=\"dataframe\">\n",
       "  <thead>\n",
       "    <tr style=\"text-align: right;\">\n",
       "      <th></th>\n",
       "      <th>detect</th>\n",
       "      <th>sms</th>\n",
       "      <th>character_number</th>\n",
       "      <th>word_number</th>\n",
       "      <th>sentence_number</th>\n",
       "      <th>transformed_sms</th>\n",
       "    </tr>\n",
       "  </thead>\n",
       "  <tbody>\n",
       "    <tr>\n",
       "      <th>872</th>\n",
       "      <td>1</td>\n",
       "      <td>Ur cash-balance is currently 500 pounds - to m...</td>\n",
       "      <td>137</td>\n",
       "      <td>26</td>\n",
       "      <td>2</td>\n",
       "      <td>ur current 500 pound maxim ur send go 86688 cc...</td>\n",
       "    </tr>\n",
       "    <tr>\n",
       "      <th>795</th>\n",
       "      <td>0</td>\n",
       "      <td>it's really getting me down just hanging around.</td>\n",
       "      <td>48</td>\n",
       "      <td>10</td>\n",
       "      <td>1</td>\n",
       "      <td>realli get hang around</td>\n",
       "    </tr>\n",
       "    <tr>\n",
       "      <th>1451</th>\n",
       "      <td>0</td>\n",
       "      <td>Pls pls find out from aunt nike.</td>\n",
       "      <td>32</td>\n",
       "      <td>8</td>\n",
       "      <td>1</td>\n",
       "      <td>pl pl find aunt nike</td>\n",
       "    </tr>\n",
       "    <tr>\n",
       "      <th>3942</th>\n",
       "      <td>0</td>\n",
       "      <td>Haiyoh... Maybe your hamster was jealous of mi...</td>\n",
       "      <td>51</td>\n",
       "      <td>9</td>\n",
       "      <td>1</td>\n",
       "      <td>haiyoh mayb hamster jealou million</td>\n",
       "    </tr>\n",
       "    <tr>\n",
       "      <th>2664</th>\n",
       "      <td>0</td>\n",
       "      <td>And stop wondering \\wow is she ever going to s...</td>\n",
       "      <td>137</td>\n",
       "      <td>33</td>\n",
       "      <td>2</td>\n",
       "      <td>stop wonder ever go stop tm whenev want mine l...</td>\n",
       "    </tr>\n",
       "    <tr>\n",
       "      <th>1362</th>\n",
       "      <td>0</td>\n",
       "      <td>I jus hope its true that  missin me cos i'm re...</td>\n",
       "      <td>115</td>\n",
       "      <td>27</td>\n",
       "      <td>2</td>\n",
       "      <td>ju hope true missin co realli missin done anyt...</td>\n",
       "    </tr>\n",
       "    <tr>\n",
       "      <th>270</th>\n",
       "      <td>0</td>\n",
       "      <td>Come to mu, we're sorting out our narcotics si...</td>\n",
       "      <td>53</td>\n",
       "      <td>11</td>\n",
       "      <td>1</td>\n",
       "      <td>come mu sort narcot situat</td>\n",
       "    </tr>\n",
       "  </tbody>\n",
       "</table>\n",
       "</div>"
      ],
      "text/plain": [
       "      detect                                                sms  \\\n",
       "872        1  Ur cash-balance is currently 500 pounds - to m...   \n",
       "795        0   it's really getting me down just hanging around.   \n",
       "1451       0                   Pls pls find out from aunt nike.   \n",
       "3942       0  Haiyoh... Maybe your hamster was jealous of mi...   \n",
       "2664       0  And stop wondering \\wow is she ever going to s...   \n",
       "1362       0  I jus hope its true that  missin me cos i'm re...   \n",
       "270        0  Come to mu, we're sorting out our narcotics si...   \n",
       "\n",
       "      character_number  word_number  sentence_number  \\\n",
       "872                137           26                2   \n",
       "795                 48           10                1   \n",
       "1451                32            8                1   \n",
       "3942                51            9                1   \n",
       "2664               137           33                2   \n",
       "1362               115           27                2   \n",
       "270                 53           11                1   \n",
       "\n",
       "                                        transformed_sms  \n",
       "872   ur current 500 pound maxim ur send go 86688 cc...  \n",
       "795                              realli get hang around  \n",
       "1451                               pl pl find aunt nike  \n",
       "3942                 haiyoh mayb hamster jealou million  \n",
       "2664  stop wonder ever go stop tm whenev want mine l...  \n",
       "1362  ju hope true missin co realli missin done anyt...  \n",
       "270                          come mu sort narcot situat  "
      ]
     },
     "execution_count": 34,
     "metadata": {},
     "output_type": "execute_result"
    }
   ],
   "source": [
    "df.sample(7)"
   ]
  },
  {
   "cell_type": "code",
   "execution_count": 35,
   "id": "a5d31c7a",
   "metadata": {},
   "outputs": [],
   "source": [
    "#A WordCloud object is created with a width of 600 pixels, height of 600 pixels, a minimum font size of 12 pixels, and a white background color\n",
    "wc = WordCloud(width=600,height=600,min_font_size=12,background_color='white')\n",
    "#The generate method of the WordCloud object is called with the transformed SMS messages that are classified as spam.\n",
    "spam_wc = wc.generate(df[df['detect'] == 1]['transformed_sms'].str.cat(sep=\" \"))"
   ]
  },
  {
   "cell_type": "code",
   "execution_count": 36,
   "id": "f5ac622a",
   "metadata": {},
   "outputs": [
    {
     "data": {
      "text/plain": [
       "<matplotlib.image.AxesImage at 0x7fc591cabf10>"
      ]
     },
     "execution_count": 36,
     "metadata": {},
     "output_type": "execute_result"
    },
    {
     "data": {
      "image/png": "[encoded data removed]",
      "text/plain": [
       "<Figure size 1152x504 with 1 Axes>"
      ]
     },
     "metadata": {
      "needs_background": "light"
     },
     "output_type": "display_data"
    }
   ],
   "source": [
    "#A figure object with a width of 16 inches and height of 7 inches is created using the figure method of the pyplot module\n",
    "plt.figure(figsize=(16,7))\n",
    "#The resulting image is shown in the output by passinf the spam_wc variable\n",
    "plt.imshow(spam_wc)"
   ]
  },
  {
   "cell_type": "code",
   "execution_count": 37,
   "id": "eefd1e03",
   "metadata": {},
   "outputs": [],
   "source": [
    "ham_wc = wc.generate(df[df['detect'] == 0]['transformed_sms'].str.cat(sep=\" \"))"
   ]
  },
  {
   "cell_type": "code",
   "execution_count": 38,
   "id": "5404314f",
   "metadata": {},
   "outputs": [
    {
     "data": {
      "text/plain": [
       "<matplotlib.image.AxesImage at 0x7fc5a15fe7f0>"
      ]
     },
     "execution_count": 38,
     "metadata": {},
     "output_type": "execute_result"
    },
    {
     "data": {
      "image/png": "[encoded data removed]",
      "text/plain": [
       "<Figure size 1152x504 with 1 Axes>"
      ]
     },
     "metadata": {
      "needs_background": "light"
     },
     "output_type": "display_data"
    }
   ],
   "source": [
    "plt.figure(figsize=(16,7))\n",
    "plt.imshow(ham_wc)"
   ]
  },
  {
   "cell_type": "code",
   "execution_count": 39,
   "id": "df8a7dd4",
   "metadata": {},
   "outputs": [],
   "source": [
    "#creates an empty list\n",
    "spam_corpus = []\n",
    "#initiates a for loop that iterates through each transformed text message where detect is a spam\n",
    "for msg in df[df['detect'] == 1]['transformed_sms'].tolist():\n",
    "    for word in msg.split():\n",
    "        spam_corpus.append(word)"
   ]
  },
  {
   "cell_type": "code",
   "execution_count": 40,
   "id": "e0851997",
   "metadata": {},
   "outputs": [
    {
     "data": {
      "text/plain": [
       "8782"
      ]
     },
     "execution_count": 40,
     "metadata": {},
     "output_type": "execute_result"
    }
   ],
   "source": [
    "#Total number of detected spam words\n",
    "len(spam_corpus)"
   ]
  },
  {
   "cell_type": "code",
   "execution_count": 41,
   "id": "8387775b",
   "metadata": {},
   "outputs": [
    {
     "name": "stderr",
     "output_type": "stream",
     "text": [
      "/Users/debmalyadeb/opt/anaconda3/lib/python3.9/site-packages/seaborn/_decorators.py:36: FutureWarning: Pass the following variables as keyword args: x, y. From version 0.12, the only valid positional argument will be `data`, and passing other arguments without an explicit keyword will result in an error or misinterpretation.\n",
      "  warnings.warn(\n"
     ]
    },
    {
     "data": {
      "image/png": "[encoded data removed]",
      "text/plain": [
       "<Figure size 432x288 with 1 Axes>"
      ]
     },
     "metadata": {
      "needs_background": "light"
     },
     "output_type": "display_data"
    }
   ],
   "source": [
    "#creates a barplot using Seaborn library with most common 25 spam words\n",
    "sns.barplot(pd.DataFrame(Counter(spam_corpus).most_common(25))[0],pd.DataFrame(Counter(spam_corpus).most_common(25))[1])\n",
    "#rotates the x-axis tick labels vertically\n",
    "plt.xticks(rotation='vertical')\n",
    "#shows the plot\n",
    "plt.show()"
   ]
  },
  {
   "cell_type": "code",
   "execution_count": 42,
   "id": "90775462",
   "metadata": {},
   "outputs": [],
   "source": [
    "#creates an empty list\n",
    "ham_corpus = []\n",
    "#initiates a for loop that iterates through each transformed text message\n",
    "for msg in df[df['detect'] == 0]['transformed_sms'].tolist():\n",
    "    for word in msg.split():\n",
    "        ham_corpus.append(word)"
   ]
  },
  {
   "cell_type": "code",
   "execution_count": 43,
   "id": "21ffe435",
   "metadata": {},
   "outputs": [
    {
     "data": {
      "text/plain": [
       "31659"
      ]
     },
     "execution_count": 43,
     "metadata": {},
     "output_type": "execute_result"
    }
   ],
   "source": [
    "#Total number of detected ham words\n",
    "len(ham_corpus)"
   ]
  },
  {
   "cell_type": "code",
   "execution_count": 44,
   "id": "ba11ad53",
   "metadata": {},
   "outputs": [
    {
     "name": "stderr",
     "output_type": "stream",
     "text": [
      "/Users/debmalyadeb/opt/anaconda3/lib/python3.9/site-packages/seaborn/_decorators.py:36: FutureWarning: Pass the following variables as keyword args: x, y. From version 0.12, the only valid positional argument will be `data`, and passing other arguments without an explicit keyword will result in an error or misinterpretation.\n",
      "  warnings.warn(\n"
     ]
    },
    {
     "data": {
      "image/png": "[encoded data removed]",
      "text/plain": [
       "<Figure size 432x288 with 1 Axes>"
      ]
     },
     "metadata": {
      "needs_background": "light"
     },
     "output_type": "display_data"
    }
   ],
   "source": [
    "#creates a barplot using Seaborn library with most common 25 ham words\n",
    "sns.barplot(pd.DataFrame(Counter(ham_corpus).most_common(25))[0],pd.DataFrame(Counter(ham_corpus).most_common(25))[1])\n",
    "#rotates the x-axis tick labels vertically\n",
    "plt.xticks(rotation='vertical')\n",
    "#shows the plot\n",
    "plt.show()"
   ]
  },
  {
   "cell_type": "markdown",
   "id": "e2ba350f",
   "metadata": {},
   "source": [
    "# Model Building"
   ]
  },
  {
   "cell_type": "markdown",
   "id": "44c0b8ef",
   "metadata": {},
   "source": [
    "Using CountVectorizer"
   ]
  },
  {
   "cell_type": "code",
   "execution_count": 45,
   "id": "1c28a4dd",
   "metadata": {},
   "outputs": [],
   "source": [
    "cv = CountVectorizer()"
   ]
  },
  {
   "cell_type": "code",
   "execution_count": 46,
   "id": "f8d91c83",
   "metadata": {},
   "outputs": [],
   "source": [
    "X = cv.fit_transform(df['transformed_sms']).toarray()"
   ]
  },
  {
   "cell_type": "code",
   "execution_count": 47,
   "id": "664b590e",
   "metadata": {},
   "outputs": [
    {
     "data": {
      "text/plain": [
       "array([[0, 0, 0, ..., 0, 0, 0],\n",
       "       [0, 0, 0, ..., 0, 0, 0],\n",
       "       [0, 0, 0, ..., 0, 0, 0],\n",
       "       ...,\n",
       "       [0, 0, 0, ..., 0, 0, 0],\n",
       "       [0, 0, 0, ..., 0, 0, 0],\n",
       "       [0, 0, 0, ..., 0, 0, 0]])"
      ]
     },
     "execution_count": 47,
     "metadata": {},
     "output_type": "execute_result"
    }
   ],
   "source": [
    "X"
   ]
  },
  {
   "cell_type": "code",
   "execution_count": 48,
   "id": "05c998e9",
   "metadata": {},
   "outputs": [
    {
     "data": {
      "text/plain": [
       "(4636, 6294)"
      ]
     },
     "execution_count": 48,
     "metadata": {},
     "output_type": "execute_result"
    }
   ],
   "source": [
    "X.shape"
   ]
  },
  {
   "cell_type": "code",
   "execution_count": 49,
   "id": "5ab3eb89",
   "metadata": {},
   "outputs": [],
   "source": [
    "y = df['detect'].values"
   ]
  },
  {
   "cell_type": "code",
   "execution_count": 50,
   "id": "f1ed8bb2",
   "metadata": {},
   "outputs": [
    {
     "data": {
      "text/plain": [
       "array([0, 0, 1, ..., 0, 0, 1])"
      ]
     },
     "execution_count": 50,
     "metadata": {},
     "output_type": "execute_result"
    }
   ],
   "source": [
    "y"
   ]
  },
  {
   "cell_type": "code",
   "execution_count": 51,
   "id": "4f8d088d",
   "metadata": {},
   "outputs": [],
   "source": [
    "X_train,X_test,y_train,y_test = train_test_split(X,y,test_size=0.3,random_state=42)"
   ]
  },
  {
   "cell_type": "code",
   "execution_count": 52,
   "id": "1d384d61",
   "metadata": {},
   "outputs": [],
   "source": [
    "#create three different Naive Bayes classifiers, each with a different assumption about the distribution of the input features\n",
    "gnb = GaussianNB()\n",
    "mnb = MultinomialNB()\n",
    "bnb = BernoulliNB()"
   ]
  },
  {
   "cell_type": "code",
   "execution_count": 53,
   "id": "c8e698eb",
   "metadata": {},
   "outputs": [
    {
     "name": "stdout",
     "output_type": "stream",
     "text": [
      "GaussianNB Accuracy is  0.8583752695902228\n",
      "GaussianNB Precision is  0.48632218844984804\n",
      "GaussianNB F1 Score is  0.6189555125725339\n",
      "GaussianNB Recall Score is  0.851063829787234\n"
     ]
    }
   ],
   "source": [
    "gnb.fit(X_train,y_train)\n",
    "y_pred1 = gnb.predict(X_test)\n",
    "print(\"GaussianNB Accuracy is \",accuracy_score(y_test,y_pred1))\n",
    "print(\"GaussianNB Precision is \",precision_score(y_test,y_pred1))\n",
    "print(\"GaussianNB F1 Score is \",f1_score(y_test,y_pred1))\n",
    "print(\"GaussianNB Recall Score is \",recall_score(y_test,y_pred1))"
   ]
  },
  {
   "cell_type": "code",
   "execution_count": 54,
   "id": "45ca0516",
   "metadata": {},
   "outputs": [
    {
     "name": "stdout",
     "output_type": "stream",
     "text": [
      "MultinomialNB Accuracy Score is  0.9762760603882099\n",
      "MultinomialNB Precision Score is  0.9057591623036649\n",
      "MultinomialNB F1 Score is  0.9129287598944592\n",
      "MultinomialNB Recall Score is  0.9202127659574468\n"
     ]
    }
   ],
   "source": [
    "mnb.fit(X_train,y_train)\n",
    "y_pred2 = mnb.predict(X_test)\n",
    "print(\"MultinomialNB Accuracy Score is \",accuracy_score(y_test,y_pred2))\n",
    "print(\"MultinomialNB Precision Score is \",precision_score(y_test,y_pred2))\n",
    "print(\"MultinomialNB F1 Score is \",f1_score(y_test,y_pred2))\n",
    "print(\"MultinomialNB Recall Score is \",recall_score(y_test,y_pred2))"
   ]
  },
  {
   "cell_type": "code",
   "execution_count": 55,
   "id": "15a2545a",
   "metadata": {},
   "outputs": [
    {
     "name": "stdout",
     "output_type": "stream",
     "text": [
      "BernoulliNB Accuracy is  0.9626168224299065\n",
      "BernoulliNB Precision is  0.9657534246575342\n",
      "BernoulliNB F1 Score is  0.8443113772455089\n",
      "BernoulliNB Recall Score is  0.75\n"
     ]
    }
   ],
   "source": [
    "bnb.fit(X_train,y_train)\n",
    "y_pred3 = bnb.predict(X_test)\n",
    "print(\"BernoulliNB Accuracy is \",accuracy_score(y_test,y_pred3))\n",
    "print(\"BernoulliNB Precision is \",precision_score(y_test,y_pred3))\n",
    "print(\"BernoulliNB F1 Score is \",f1_score(y_test,y_pred3))\n",
    "print(\"BernoulliNB Recall Score is \",recall_score(y_test,y_pred3))\n"
   ]
  },
  {
   "cell_type": "markdown",
   "id": "cd56f646",
   "metadata": {},
   "source": [
    "# Using TfidfVectorizer"
   ]
  },
  {
   "cell_type": "code",
   "execution_count": 192,
   "id": "9769738d",
   "metadata": {},
   "outputs": [],
   "source": [
    "#creates a TfidfVectorizer object, which is used to transform the text data into a numerical representation that can be used in machine learning algorithms\n",
    "tfidf = TfidfVectorizer()"
   ]
  },
  {
   "cell_type": "markdown",
   "id": "9e224d12",
   "metadata": {},
   "source": [
    "Using TfidfVectorizer where max_features=3000"
   ]
  },
  {
   "cell_type": "code",
   "execution_count": 129,
   "id": "8471e93d",
   "metadata": {},
   "outputs": [],
   "source": [
    "#TfidfVectorizer object will include only the 3000 most frequently occurring words in the corpus,\n",
    "tfidf = TfidfVectorizer(max_features=3000)"
   ]
  },
  {
   "cell_type": "code",
   "execution_count": 193,
   "id": "776de8d1",
   "metadata": {},
   "outputs": [],
   "source": [
    "#transform the preprocessed text data (df['transformed_sms']) into a numerical feature matrix (X)\n",
    "X = tfidf.fit_transform(df['transformed_sms']).toarray()"
   ]
  },
  {
   "cell_type": "code",
   "execution_count": 194,
   "id": "6f33db1d",
   "metadata": {},
   "outputs": [
    {
     "data": {
      "text/plain": [
       "array([[0., 0., 0., ..., 0., 0., 0.],\n",
       "       [0., 0., 0., ..., 0., 0., 0.],\n",
       "       [0., 0., 0., ..., 0., 0., 0.],\n",
       "       ...,\n",
       "       [0., 0., 0., ..., 0., 0., 0.],\n",
       "       [0., 0., 0., ..., 0., 0., 0.],\n",
       "       [0., 0., 0., ..., 0., 0., 0.]])"
      ]
     },
     "execution_count": 194,
     "metadata": {},
     "output_type": "execute_result"
    }
   ],
   "source": [
    "X"
   ]
  },
  {
   "cell_type": "code",
   "execution_count": 195,
   "id": "2eb3c380",
   "metadata": {},
   "outputs": [
    {
     "data": {
      "text/plain": [
       "(4636, 6294)"
      ]
     },
     "execution_count": 195,
     "metadata": {},
     "output_type": "execute_result"
    }
   ],
   "source": [
    "#Shape of the X variable\n",
    "X.shape"
   ]
  },
  {
   "cell_type": "code",
   "execution_count": 196,
   "id": "a71973a0",
   "metadata": {},
   "outputs": [],
   "source": [
    "#creates a NumPy array y containing the values of the 'detect' column from the DataFrame df\n",
    "y = df['detect'].values"
   ]
  },
  {
   "cell_type": "code",
   "execution_count": 197,
   "id": "f0f9ce86",
   "metadata": {},
   "outputs": [
    {
     "data": {
      "text/plain": [
       "array([0, 0, 1, ..., 0, 0, 1])"
      ]
     },
     "execution_count": 197,
     "metadata": {},
     "output_type": "execute_result"
    }
   ],
   "source": [
    "y"
   ]
  },
  {
   "cell_type": "code",
   "execution_count": 198,
   "id": "373ed6c6",
   "metadata": {},
   "outputs": [],
   "source": [
    "#splitting a dataset into training and testing sets\n",
    "X_train,X_test,y_train,y_test = train_test_split(X,y,test_size=0.3,random_state=42)"
   ]
  },
  {
   "cell_type": "code",
   "execution_count": 199,
   "id": "1ab07e78",
   "metadata": {},
   "outputs": [
    {
     "data": {
      "text/plain": [
       "(3245, 6294)"
      ]
     },
     "execution_count": 199,
     "metadata": {},
     "output_type": "execute_result"
    }
   ],
   "source": [
    "X_train.shape"
   ]
  },
  {
   "cell_type": "code",
   "execution_count": 200,
   "id": "bd81d988",
   "metadata": {},
   "outputs": [
    {
     "data": {
      "text/plain": [
       "(1391, 6294)"
      ]
     },
     "execution_count": 200,
     "metadata": {},
     "output_type": "execute_result"
    }
   ],
   "source": [
    "X_test.shape"
   ]
  },
  {
   "cell_type": "code",
   "execution_count": 138,
   "id": "95ee22b0",
   "metadata": {},
   "outputs": [
    {
     "name": "stdout",
     "output_type": "stream",
     "text": [
      "GaussianNB Accuracy is  0.8519051042415529\n",
      "GaussianNB Precision is  0.4722222222222222\n",
      "GaussianNB F1 Score is  0.5976562499999999\n",
      "GaussianNB Recall Score is  0.8138297872340425\n"
     ]
    }
   ],
   "source": [
    "#fit the Gaussian Naive Bayes classifier on the training data X_train and y_train, and use it to make predictions on the testing data X_test. The predictions are stored in the y_pred1 variable.\n",
    "gnb.fit(X_train,y_train)\n",
    "#The predictions are stored in the y_pred1 variable.\n",
    "y_pred1 = gnb.predict(X_test)\n",
    "#accuracy_score() and precision_score() functions from scikit-learn are then used to evaluate the performance\n",
    "print(\"GaussianNB Accuracy is \",accuracy_score(y_test,y_pred1))\n",
    "print(\"GaussianNB Precision is \",precision_score(y_test,y_pred1))\n",
    "print(\"GaussianNB F1 Score is \",f1_score(y_test,y_pred1))\n",
    "print(\"GaussianNB Recall Score is \",recall_score(y_test,y_pred1))\n"
   ]
  },
  {
   "cell_type": "code",
   "execution_count": 139,
   "id": "12dfd41c",
   "metadata": {},
   "outputs": [
    {
     "name": "stdout",
     "output_type": "stream",
     "text": [
      "MultinomialNB Accuracy Score is  0.9690869877785766\n",
      "MultinomialNB Precision Score is  0.9931972789115646\n",
      "MultinomialNB F1 Score is  0.8716417910447762\n",
      "MultinomialNB Recall Score is  0.776595744680851\n"
     ]
    }
   ],
   "source": [
    "#fit the Multinomial Naive Bayes classifier on the training data X_train and y_train, and use it to make predictions on the testing data X_test. The predictions are stored in the y_pred1 variable.\n",
    "mnb.fit(X_train,y_train)\n",
    "#The predictions are stored in the y_pred2 variable.\n",
    "y_pred2 = mnb.predict(X_test)\n",
    "#accuracy_score() and precision_score() functions from scikit-learn are then used to evaluate the performance\n",
    "print(\"MultinomialNB Accuracy Score is \",accuracy_score(y_test,y_pred2))\n",
    "print(\"MultinomialNB Precision Score is \",precision_score(y_test,y_pred2))\n",
    "print(\"MultinomialNB F1 Score is \",f1_score(y_test,y_pred2))\n",
    "print(\"MultinomialNB Recall Score is \",recall_score(y_test,y_pred2))"
   ]
  },
  {
   "cell_type": "code",
   "execution_count": 140,
   "id": "4ab633e9",
   "metadata": {},
   "outputs": [
    {
     "name": "stdout",
     "output_type": "stream",
     "text": [
      "BernoulliNB Accuracy is  0.9726815240833933\n",
      "BernoulliNB Precision is  0.96875\n",
      "BernoulliNB F1 Score is  0.8908045977011495\n",
      "BernoulliNB Recall Score is  0.824468085106383\n"
     ]
    }
   ],
   "source": [
    "#fit the Bernoulli Naive Bayes classifier on the training data X_train and y_train, and use it to make predictions on the testing data X_test. The predictions are stored in the y_pred1 variable.\n",
    "bnb.fit(X_train,y_train)\n",
    "#The predictions are stored in the y_pred3 variable.\n",
    "y_pred3 = bnb.predict(X_test)\n",
    "#accuracy_score() and precision_score() functions from scikit-learn are then used to evaluate the performance\n",
    "print(\"BernoulliNB Accuracy is \",accuracy_score(y_test,y_pred3))\n",
    "print(\"BernoulliNB Precision is \",precision_score(y_test,y_pred3))\n",
    "print(\"BernoulliNB F1 Score is \",f1_score(y_test,y_pred3))\n",
    "print(\"BernoulliNB Recall Score is \",recall_score(y_test,y_pred3))\n"
   ]
  },
  {
   "cell_type": "markdown",
   "id": "7d1766a4",
   "metadata": {},
   "source": [
    "# DecisionTreeClassifier, RandomForestClassifier And Naive Bayes comparison"
   ]
  },
  {
   "cell_type": "code",
   "execution_count": 141,
   "id": "79d9b0d6",
   "metadata": {},
   "outputs": [],
   "source": [
    "#Creates an instance of the DecisionTreeClassifier class with a maximum depth of 5\n",
    "dtc = DecisionTreeClassifier(max_depth=5)\n",
    "#Creates an instance of# DecisionTreeClassifier, RandomForestClassifier And Naive Bayes comparison the RandomForestClassifier \n",
    "rfc = RandomForestClassifier(n_estimators=50, random_state=42)"
   ]
  },
  {
   "cell_type": "code",
   "execution_count": 142,
   "id": "0dac03d5",
   "metadata": {},
   "outputs": [],
   "source": [
    "#creates a dictionary clfs that maps the names of different classifiers to the actual classifier objects\n",
    "clfs = {\n",
    "    'DecisionTreeClassifier': dtc,\n",
    "    'RandomForestClassifier': rfc,\n",
    "    'Naive_Bayes':mnb\n",
    "}"
   ]
  },
  {
   "cell_type": "code",
   "execution_count": 143,
   "id": "dd9e4c84",
   "metadata": {},
   "outputs": [],
   "source": [
    "#defines a function called train_classifier that takes in five arguments\n",
    "def train_classifier(clf,X_train,y_train,X_test,y_test):\n",
    "    clf.fit(X_train,y_train)\n",
    "    y_pred = clf.predict(X_test)\n",
    "    accuracy = accuracy_score(y_test,y_pred)\n",
    "    precision = precision_score(y_test,y_pred)\n",
    "    f1 = f1_score(y_test, y_pred)\n",
    "    recall = recall_score(y_test,y_pred)\n",
    "    \n",
    "    return accuracy,precision,f1,recall"
   ]
  },
  {
   "cell_type": "code",
   "execution_count": 144,
   "id": "d2768510",
   "metadata": {},
   "outputs": [
    {
     "data": {
      "text/plain": [
       "(0.9324227174694465,\n",
       " 0.8916666666666667,\n",
       " 0.6948051948051949,\n",
       " 0.5691489361702128)"
      ]
     },
     "execution_count": 144,
     "metadata": {},
     "output_type": "execute_result"
    }
   ],
   "source": [
    "#calling the train_classifier function with the dtc arugument\n",
    "train_classifier(dtc,X_train,y_train,X_test,y_test)"
   ]
  },
  {
   "cell_type": "code",
   "execution_count": 145,
   "id": "b6393926",
   "metadata": {},
   "outputs": [
    {
     "data": {
      "text/plain": [
       "(0.9734004313443566,\n",
       " 0.9934640522875817,\n",
       " 0.8914956011730205,\n",
       " 0.8085106382978723)"
      ]
     },
     "execution_count": 145,
     "metadata": {},
     "output_type": "execute_result"
    }
   ],
   "source": [
    "#calling the train_classifier function with the rfc arugument\n",
    "train_classifier(rfc,X_train,y_train,X_test,y_test)"
   ]
  },
  {
   "cell_type": "code",
   "execution_count": 146,
   "id": "81b52428",
   "metadata": {},
   "outputs": [
    {
     "name": "stdout",
     "output_type": "stream",
     "text": [
      "For  DecisionTreeClassifier\n",
      "Accuracy -  0.9324227174694465\n",
      "Precision -  0.8852459016393442\n",
      "F1 Score -  0.6967741935483872\n",
      "Recall Score -  0.574468085106383\n",
      "For  RandomForestClassifier\n",
      "Accuracy -  0.9734004313443566\n",
      "Precision -  0.9934640522875817\n",
      "F1 Score -  0.8914956011730205\n",
      "Recall Score -  0.8085106382978723\n",
      "For  Naive_Bayes\n",
      "Accuracy -  0.9690869877785766\n",
      "Precision -  0.9931972789115646\n",
      "F1 Score -  0.8716417910447762\n",
      "Recall Score -  0.776595744680851\n"
     ]
    }
   ],
   "source": [
    "#creates three empty lists to store the accuracy and precision scores for each classifier\n",
    "accuracy_scores = []\n",
    "precision_scores = []\n",
    "f1_scores = []\n",
    "recall_scores = []\n",
    "#iterates over the items in the clfs dictionary, which contains the names of the classifiers as keys and the classifier objects as values\n",
    "for name,clf in clfs.items():\n",
    "    \n",
    "    current_accuracy,current_precision,current_f1,current_recall = train_classifier(clf, X_train,y_train,X_test,y_test)\n",
    "    \n",
    "    print(\"For \",name)\n",
    "    print(\"Accuracy - \",current_accuracy)\n",
    "    print(\"Precision - \",current_precision)\n",
    "    print(\"F1 Score - \",current_f1)\n",
    "    print(\"Recall Score - \",current_recall)\n",
    "    \n",
    "    accuracy_scores.append(current_accuracy)\n",
    "    precision_scores.append(current_precision)\n",
    "    f1_scores.append(current_f1)\n",
    "    recall_scores.append(current_recall)\n",
    "    "
   ]
  },
  {
   "cell_type": "code",
   "execution_count": 124,
   "id": "51f5f373",
   "metadata": {},
   "outputs": [],
   "source": [
    "#creates a pandas DataFrame object\n",
    "\n",
    "performance_df = pd.DataFrame({'Algorithm':clfs.keys(),'Accuracy':accuracy_scores,'Precision':precision_scores,'F1':f1_scores, 'Recall':recall_scores}).sort_values('Precision',ascending=False)\n",
    "\n"
   ]
  },
  {
   "cell_type": "code",
   "execution_count": 125,
   "id": "ac8c7cd4",
   "metadata": {},
   "outputs": [
    {
     "data": {
      "text/html": [
       "<div>\n",
       "<style scoped>\n",
       "    .dataframe tbody tr th:only-of-type {\n",
       "        vertical-align: middle;\n",
       "    }\n",
       "\n",
       "    .dataframe tbody tr th {\n",
       "        vertical-align: top;\n",
       "    }\n",
       "\n",
       "    .dataframe thead th {\n",
       "        text-align: right;\n",
       "    }\n",
       "</style>\n",
       "<table border=\"1\" class=\"dataframe\">\n",
       "  <thead>\n",
       "    <tr style=\"text-align: right;\">\n",
       "      <th></th>\n",
       "      <th>Algorithm</th>\n",
       "      <th>Accuracy</th>\n",
       "      <th>Precision</th>\n",
       "      <th>F1</th>\n",
       "      <th>Recall</th>\n",
       "    </tr>\n",
       "  </thead>\n",
       "  <tbody>\n",
       "    <tr>\n",
       "      <th>2</th>\n",
       "      <td>Naive_Bayes</td>\n",
       "      <td>0.943925</td>\n",
       "      <td>1.000000</td>\n",
       "      <td>0.738255</td>\n",
       "      <td>0.585106</td>\n",
       "    </tr>\n",
       "    <tr>\n",
       "      <th>1</th>\n",
       "      <td>RandomForestClassifier</td>\n",
       "      <td>0.966211</td>\n",
       "      <td>0.993007</td>\n",
       "      <td>0.858006</td>\n",
       "      <td>0.755319</td>\n",
       "    </tr>\n",
       "    <tr>\n",
       "      <th>0</th>\n",
       "      <td>DecisionTreeClassifier</td>\n",
       "      <td>0.936017</td>\n",
       "      <td>0.902439</td>\n",
       "      <td>0.713826</td>\n",
       "      <td>0.590426</td>\n",
       "    </tr>\n",
       "  </tbody>\n",
       "</table>\n",
       "</div>"
      ],
      "text/plain": [
       "                Algorithm  Accuracy  Precision        F1    Recall\n",
       "2             Naive_Bayes  0.943925   1.000000  0.738255  0.585106\n",
       "1  RandomForestClassifier  0.966211   0.993007  0.858006  0.755319\n",
       "0  DecisionTreeClassifier  0.936017   0.902439  0.713826  0.590426"
      ]
     },
     "execution_count": 125,
     "metadata": {},
     "output_type": "execute_result"
    }
   ],
   "source": [
    "performance_df"
   ]
  },
  {
   "cell_type": "code",
   "execution_count": 126,
   "id": "1cf3fb2c",
   "metadata": {},
   "outputs": [],
   "source": [
    "#function is used to transform the DataFrame performance_df from \"wide\" to \"long\" format. Specifically, it \"unpivots\" the DataFrame by melting the columns\n",
    "performance_df1 = pd.melt(performance_df, id_vars = \"Algorithm\")\n"
   ]
  },
  {
   "cell_type": "code",
   "execution_count": 127,
   "id": "324bb41d",
   "metadata": {},
   "outputs": [
    {
     "data": {
      "text/html": [
       "<div>\n",
       "<style scoped>\n",
       "    .dataframe tbody tr th:only-of-type {\n",
       "        vertical-align: middle;\n",
       "    }\n",
       "\n",
       "    .dataframe tbody tr th {\n",
       "        vertical-align: top;\n",
       "    }\n",
       "\n",
       "    .dataframe thead th {\n",
       "        text-align: right;\n",
       "    }\n",
       "</style>\n",
       "<table border=\"1\" class=\"dataframe\">\n",
       "  <thead>\n",
       "    <tr style=\"text-align: right;\">\n",
       "      <th></th>\n",
       "      <th>Algorithm</th>\n",
       "      <th>variable</th>\n",
       "      <th>value</th>\n",
       "    </tr>\n",
       "  </thead>\n",
       "  <tbody>\n",
       "    <tr>\n",
       "      <th>0</th>\n",
       "      <td>Naive_Bayes</td>\n",
       "      <td>Accuracy</td>\n",
       "      <td>0.943925</td>\n",
       "    </tr>\n",
       "    <tr>\n",
       "      <th>1</th>\n",
       "      <td>RandomForestClassifier</td>\n",
       "      <td>Accuracy</td>\n",
       "      <td>0.966211</td>\n",
       "    </tr>\n",
       "    <tr>\n",
       "      <th>2</th>\n",
       "      <td>DecisionTreeClassifier</td>\n",
       "      <td>Accuracy</td>\n",
       "      <td>0.936017</td>\n",
       "    </tr>\n",
       "    <tr>\n",
       "      <th>3</th>\n",
       "      <td>Naive_Bayes</td>\n",
       "      <td>Precision</td>\n",
       "      <td>1.000000</td>\n",
       "    </tr>\n",
       "    <tr>\n",
       "      <th>4</th>\n",
       "      <td>RandomForestClassifier</td>\n",
       "      <td>Precision</td>\n",
       "      <td>0.993007</td>\n",
       "    </tr>\n",
       "    <tr>\n",
       "      <th>5</th>\n",
       "      <td>DecisionTreeClassifier</td>\n",
       "      <td>Precision</td>\n",
       "      <td>0.902439</td>\n",
       "    </tr>\n",
       "    <tr>\n",
       "      <th>6</th>\n",
       "      <td>Naive_Bayes</td>\n",
       "      <td>F1</td>\n",
       "      <td>0.738255</td>\n",
       "    </tr>\n",
       "    <tr>\n",
       "      <th>7</th>\n",
       "      <td>RandomForestClassifier</td>\n",
       "      <td>F1</td>\n",
       "      <td>0.858006</td>\n",
       "    </tr>\n",
       "    <tr>\n",
       "      <th>8</th>\n",
       "      <td>DecisionTreeClassifier</td>\n",
       "      <td>F1</td>\n",
       "      <td>0.713826</td>\n",
       "    </tr>\n",
       "    <tr>\n",
       "      <th>9</th>\n",
       "      <td>Naive_Bayes</td>\n",
       "      <td>Recall</td>\n",
       "      <td>0.585106</td>\n",
       "    </tr>\n",
       "    <tr>\n",
       "      <th>10</th>\n",
       "      <td>RandomForestClassifier</td>\n",
       "      <td>Recall</td>\n",
       "      <td>0.755319</td>\n",
       "    </tr>\n",
       "    <tr>\n",
       "      <th>11</th>\n",
       "      <td>DecisionTreeClassifier</td>\n",
       "      <td>Recall</td>\n",
       "      <td>0.590426</td>\n",
       "    </tr>\n",
       "  </tbody>\n",
       "</table>\n",
       "</div>"
      ],
      "text/plain": [
       "                 Algorithm   variable     value\n",
       "0              Naive_Bayes   Accuracy  0.943925\n",
       "1   RandomForestClassifier   Accuracy  0.966211\n",
       "2   DecisionTreeClassifier   Accuracy  0.936017\n",
       "3              Naive_Bayes  Precision  1.000000\n",
       "4   RandomForestClassifier  Precision  0.993007\n",
       "5   DecisionTreeClassifier  Precision  0.902439\n",
       "6              Naive_Bayes         F1  0.738255\n",
       "7   RandomForestClassifier         F1  0.858006\n",
       "8   DecisionTreeClassifier         F1  0.713826\n",
       "9              Naive_Bayes     Recall  0.585106\n",
       "10  RandomForestClassifier     Recall  0.755319\n",
       "11  DecisionTreeClassifier     Recall  0.590426"
      ]
     },
     "execution_count": 127,
     "metadata": {},
     "output_type": "execute_result"
    }
   ],
   "source": [
    "performance_df1"
   ]
  },
  {
   "cell_type": "code",
   "execution_count": null,
   "id": "8d162adb",
   "metadata": {},
   "outputs": [],
   "source": []
  },
  {
   "cell_type": "code",
   "execution_count": 128,
   "id": "fe148f5d",
   "metadata": {},
   "outputs": [
    {
     "data": {
      "image/png": "[encoded data removed]",
      "text/plain": [
       "<Figure size 441.75x360 with 1 Axes>"
      ]
     },
     "metadata": {
      "needs_background": "light"
     },
     "output_type": "display_data"
    }
   ],
   "source": [
    "#generates a bar plot using Seaborn's catplot() function to visualize the accuracy, precision and f1 scores of the classifiers stored in the DataFrame \n",
    "\n",
    "sns.catplot(x = 'Algorithm', y='value', \n",
    "               hue = 'variable',data=performance_df1, kind='bar',height=5)\n",
    "plt.ylim(0.5,1.0)\n",
    "plt.xticks(rotation='vertical')\n",
    "plt.show()"
   ]
  },
  {
   "cell_type": "markdown",
   "id": "8992992e",
   "metadata": {},
   "source": [
    "# Set the max_features parameter to 3000 of TfIdf"
   ]
  },
  {
   "cell_type": "code",
   "execution_count": 147,
   "id": "1a435919",
   "metadata": {},
   "outputs": [],
   "source": [
    "#creates a new DataFrame temp_df with four columns: 'Algorithm', 'Accuracy_max_ft_3000', 'Precision_max_ft_3000', and 'F1_max_ft_3000'\n",
    "temp_df = pd.DataFrame({'Algorithm':clfs.keys(),'Accuracy_max_ft_3000':accuracy_scores,'Precision_max_ft_3000':precision_scores,'F1_max_ft_3000':f1_scores, 'Recall_max_ft_3000':recall_scores}).sort_values('Precision_max_ft_3000',ascending=False)\n"
   ]
  },
  {
   "cell_type": "code",
   "execution_count": 148,
   "id": "954d978f",
   "metadata": {},
   "outputs": [],
   "source": [
    "#merges the two DataFrames performance_df and temp_df on the 'Algorithm' column and creates a new DataFrame new_df.\n",
    "new_df = performance_df.merge(temp_df,on='Algorithm')"
   ]
  },
  {
   "cell_type": "code",
   "execution_count": 149,
   "id": "d82c9f81",
   "metadata": {},
   "outputs": [
    {
     "data": {
      "text/html": [
       "<div>\n",
       "<style scoped>\n",
       "    .dataframe tbody tr th:only-of-type {\n",
       "        vertical-align: middle;\n",
       "    }\n",
       "\n",
       "    .dataframe tbody tr th {\n",
       "        vertical-align: top;\n",
       "    }\n",
       "\n",
       "    .dataframe thead th {\n",
       "        text-align: right;\n",
       "    }\n",
       "</style>\n",
       "<table border=\"1\" class=\"dataframe\">\n",
       "  <thead>\n",
       "    <tr style=\"text-align: right;\">\n",
       "      <th></th>\n",
       "      <th>Algorithm</th>\n",
       "      <th>Accuracy</th>\n",
       "      <th>Precision</th>\n",
       "      <th>F1</th>\n",
       "      <th>Recall</th>\n",
       "      <th>Accuracy_max_ft_3000</th>\n",
       "      <th>Precision_max_ft_3000</th>\n",
       "      <th>F1_max_ft_3000</th>\n",
       "      <th>Recall_max_ft_3000</th>\n",
       "    </tr>\n",
       "  </thead>\n",
       "  <tbody>\n",
       "    <tr>\n",
       "      <th>0</th>\n",
       "      <td>Naive_Bayes</td>\n",
       "      <td>0.943925</td>\n",
       "      <td>1.000000</td>\n",
       "      <td>0.738255</td>\n",
       "      <td>0.585106</td>\n",
       "      <td>0.969087</td>\n",
       "      <td>0.993197</td>\n",
       "      <td>0.871642</td>\n",
       "      <td>0.776596</td>\n",
       "    </tr>\n",
       "    <tr>\n",
       "      <th>1</th>\n",
       "      <td>RandomForestClassifier</td>\n",
       "      <td>0.966211</td>\n",
       "      <td>0.993007</td>\n",
       "      <td>0.858006</td>\n",
       "      <td>0.755319</td>\n",
       "      <td>0.973400</td>\n",
       "      <td>0.993464</td>\n",
       "      <td>0.891496</td>\n",
       "      <td>0.808511</td>\n",
       "    </tr>\n",
       "    <tr>\n",
       "      <th>2</th>\n",
       "      <td>DecisionTreeClassifier</td>\n",
       "      <td>0.936017</td>\n",
       "      <td>0.902439</td>\n",
       "      <td>0.713826</td>\n",
       "      <td>0.590426</td>\n",
       "      <td>0.932423</td>\n",
       "      <td>0.885246</td>\n",
       "      <td>0.696774</td>\n",
       "      <td>0.574468</td>\n",
       "    </tr>\n",
       "  </tbody>\n",
       "</table>\n",
       "</div>"
      ],
      "text/plain": [
       "                Algorithm  Accuracy  Precision        F1    Recall  \\\n",
       "0             Naive_Bayes  0.943925   1.000000  0.738255  0.585106   \n",
       "1  RandomForestClassifier  0.966211   0.993007  0.858006  0.755319   \n",
       "2  DecisionTreeClassifier  0.936017   0.902439  0.713826  0.590426   \n",
       "\n",
       "   Accuracy_max_ft_3000  Precision_max_ft_3000  F1_max_ft_3000  \\\n",
       "0              0.969087               0.993197        0.871642   \n",
       "1              0.973400               0.993464        0.891496   \n",
       "2              0.932423               0.885246        0.696774   \n",
       "\n",
       "   Recall_max_ft_3000  \n",
       "0            0.776596  \n",
       "1            0.808511  \n",
       "2            0.574468  "
      ]
     },
     "execution_count": 149,
     "metadata": {},
     "output_type": "execute_result"
    }
   ],
   "source": [
    "new_df"
   ]
  },
  {
   "cell_type": "code",
   "execution_count": null,
   "id": "653eb2b3",
   "metadata": {},
   "outputs": [],
   "source": []
  },
  {
   "cell_type": "markdown",
   "id": "fd0c178b",
   "metadata": {},
   "source": [
    "# DecisionTreeClassifier, RandomForestClassifier using Xgboost"
   ]
  },
  {
   "cell_type": "code",
   "execution_count": 150,
   "id": "20176c45",
   "metadata": {},
   "outputs": [],
   "source": [
    "import xgboost as xgb\n",
    "\n",
    "# Initializes an instance of the XGBClassifier class with a maximum depth of 5\n",
    "xgb_dtc = xgb.XGBClassifier(max_depth=5)\n",
    "\n",
    "# Initializes an instance of the XGBClassifier class with 50 estimators and random state 42\n",
    "xgb_rf = xgb.XGBRFClassifier(n_estimators=50, random_state=42)\n"
   ]
  },
  {
   "cell_type": "code",
   "execution_count": 151,
   "id": "1f87af85",
   "metadata": {},
   "outputs": [],
   "source": [
    "#creates a dictionary clfs that maps the names of different classifiers to the actual classifier objects\n",
    "clfs1 = {\n",
    "    'xgboost_DecisionTreeClassifier': xgb_dtc,\n",
    "    'xgboost_RandomForestClassifier': xgb_rf,\n",
    "}"
   ]
  },
  {
   "cell_type": "markdown",
   "id": "8ca39fb6",
   "metadata": {},
   "source": [
    "# Using TfidfVectorizer"
   ]
  },
  {
   "cell_type": "code",
   "execution_count": 152,
   "id": "698942fc",
   "metadata": {},
   "outputs": [],
   "source": [
    "#creates a TfidfVectorizer object, which is used to transform the text data into a numerical representation that can be used in machine learning algorithms\n",
    "tfidf = TfidfVectorizer()\n"
   ]
  },
  {
   "cell_type": "markdown",
   "id": "76ae687a",
   "metadata": {},
   "source": [
    "# Using TfidfVectorizer where max_features=3000"
   ]
  },
  {
   "cell_type": "code",
   "execution_count": 165,
   "id": "68ca752f",
   "metadata": {},
   "outputs": [],
   "source": [
    "#TfidfVectorizer object will include only the 3000 most frequently occurring words in the corpus,\n",
    "tfidf = TfidfVectorizer(max_features=3000)"
   ]
  },
  {
   "cell_type": "code",
   "execution_count": null,
   "id": "5ae61d93",
   "metadata": {},
   "outputs": [],
   "source": []
  },
  {
   "cell_type": "code",
   "execution_count": 166,
   "id": "42d92f39",
   "metadata": {},
   "outputs": [],
   "source": [
    "#transform the preprocessed text data (df['transformed_sms']) into a numerical feature matrix (X)\n",
    "X = tfidf.fit_transform(df['transformed_sms']).toarray()"
   ]
  },
  {
   "cell_type": "code",
   "execution_count": 167,
   "id": "0b7e683b",
   "metadata": {},
   "outputs": [],
   "source": [
    "#creates a NumPy array y containing the values of the 'target' column from the DataFrame df\n",
    "y = df['detect'].values"
   ]
  },
  {
   "cell_type": "code",
   "execution_count": 168,
   "id": "372f7b69",
   "metadata": {},
   "outputs": [],
   "source": [
    "#splitting a dataset into training and testing sets. \n",
    "X_train,X_test,y_train,y_test = train_test_split(X,y,test_size=0.3,random_state=42)"
   ]
  },
  {
   "cell_type": "code",
   "execution_count": 169,
   "id": "4ba194f9",
   "metadata": {},
   "outputs": [],
   "source": [
    "#defines a function called train_classifier that takes in five arguments\n",
    "def train_classifier(clf,X_train,y_train,X_test,y_test):\n",
    "    clf.fit(X_train,y_train)\n",
    "    y_pred = clf.predict(X_test)\n",
    "    accuracy = accuracy_score(y_test,y_pred)\n",
    "    precision = precision_score(y_test,y_pred)\n",
    "    f1 = f1_score(y_test, y_pred)\n",
    "    recall = recall_score(y_test,y_pred)\n",
    "    \n",
    "    return accuracy,precision,f1,recall"
   ]
  },
  {
   "cell_type": "code",
   "execution_count": 170,
   "id": "46ed8ecf",
   "metadata": {},
   "outputs": [
    {
     "data": {
      "text/plain": [
       "(0.9734004313443566, 0.968944099378882, 0.8939828080229226, 0.8297872340425532)"
      ]
     },
     "execution_count": 170,
     "metadata": {},
     "output_type": "execute_result"
    }
   ],
   "source": [
    "#calling the train_classifier function with the xgb_dtc arugument\n",
    "train_classifier(xgb_dtc,X_train,y_train,X_test,y_test)"
   ]
  },
  {
   "cell_type": "code",
   "execution_count": 171,
   "id": "0cbd63f1",
   "metadata": {},
   "outputs": [
    {
     "data": {
      "text/plain": [
       "(0.9388928828181164,\n",
       " 0.8992248062015504,\n",
       " 0.7318611987381703,\n",
       " 0.6170212765957447)"
      ]
     },
     "execution_count": 171,
     "metadata": {},
     "output_type": "execute_result"
    }
   ],
   "source": [
    "#calling the train_classifier function with the xgb_rf arugument\n",
    "train_classifier(xgb_rf,X_train,y_train,X_test,y_test)"
   ]
  },
  {
   "cell_type": "code",
   "execution_count": 172,
   "id": "3b5b890b",
   "metadata": {},
   "outputs": [
    {
     "name": "stdout",
     "output_type": "stream",
     "text": [
      "For  xgboost_DecisionTreeClassifier\n",
      "Accuracy -  0.9734004313443566\n",
      "Precision -  0.968944099378882\n",
      "F1 Score -  0.8939828080229226\n",
      "Recall Score -  0.8297872340425532\n",
      "For  xgboost_RandomForestClassifier\n",
      "Accuracy -  0.9388928828181164\n",
      "Precision -  0.8992248062015504\n",
      "F1 Score -  0.7318611987381703\n",
      "Recall Score -  0.6170212765957447\n"
     ]
    }
   ],
   "source": [
    "#creates three empty lists to store the accuracy and precision scores for each classifier\n",
    "accuracy_scores = []\n",
    "precision_scores = []\n",
    "f1_scores = []\n",
    "recall_scores = []\n",
    "#iterates over the items in the clfs1 dictionary, which contains the names of the classifiers as keys and the classifier objects as values\n",
    "for name,clf in clfs1.items():\n",
    "    \n",
    "    current_accuracy,current_precision,current_f1,current_recall = train_classifier(clf, X_train,y_train,X_test,y_test)\n",
    "    \n",
    "    print(\"For \",name)\n",
    "    print(\"Accuracy - \",current_accuracy)\n",
    "    print(\"Precision - \",current_precision)\n",
    "    print(\"F1 Score - \",current_f1)\n",
    "    print(\"Recall Score - \",current_recall)\n",
    "    \n",
    "    accuracy_scores.append(current_accuracy)\n",
    "    precision_scores.append(current_precision)\n",
    "    f1_scores.append(current_f1)\n",
    "    recall_scores.append(current_recall)\n",
    "    "
   ]
  },
  {
   "cell_type": "code",
   "execution_count": 160,
   "id": "32835f5f",
   "metadata": {},
   "outputs": [],
   "source": [
    "#creates a pandas DataFrame object\n",
    "\n",
    "xgb_performance_df = pd.DataFrame({'Algorithm':clfs1.keys(),'Accuracy':accuracy_scores,'Precision':precision_scores,'F1':f1_scores, 'Recall' :recall_scores}).sort_values('Precision',ascending=False)\n",
    "\n"
   ]
  },
  {
   "cell_type": "code",
   "execution_count": 161,
   "id": "61c5d98a",
   "metadata": {},
   "outputs": [
    {
     "data": {
      "text/html": [
       "<div>\n",
       "<style scoped>\n",
       "    .dataframe tbody tr th:only-of-type {\n",
       "        vertical-align: middle;\n",
       "    }\n",
       "\n",
       "    .dataframe tbody tr th {\n",
       "        vertical-align: top;\n",
       "    }\n",
       "\n",
       "    .dataframe thead th {\n",
       "        text-align: right;\n",
       "    }\n",
       "</style>\n",
       "<table border=\"1\" class=\"dataframe\">\n",
       "  <thead>\n",
       "    <tr style=\"text-align: right;\">\n",
       "      <th></th>\n",
       "      <th>Algorithm</th>\n",
       "      <th>Accuracy</th>\n",
       "      <th>Precision</th>\n",
       "      <th>F1</th>\n",
       "      <th>Recall</th>\n",
       "    </tr>\n",
       "  </thead>\n",
       "  <tbody>\n",
       "    <tr>\n",
       "      <th>0</th>\n",
       "      <td>xgboost_DecisionTreeClassifier</td>\n",
       "      <td>0.973400</td>\n",
       "      <td>0.974843</td>\n",
       "      <td>0.893372</td>\n",
       "      <td>0.824468</td>\n",
       "    </tr>\n",
       "    <tr>\n",
       "      <th>1</th>\n",
       "      <td>xgboost_RandomForestClassifier</td>\n",
       "      <td>0.943206</td>\n",
       "      <td>0.916031</td>\n",
       "      <td>0.752351</td>\n",
       "      <td>0.638298</td>\n",
       "    </tr>\n",
       "  </tbody>\n",
       "</table>\n",
       "</div>"
      ],
      "text/plain": [
       "                        Algorithm  Accuracy  Precision        F1    Recall\n",
       "0  xgboost_DecisionTreeClassifier  0.973400   0.974843  0.893372  0.824468\n",
       "1  xgboost_RandomForestClassifier  0.943206   0.916031  0.752351  0.638298"
      ]
     },
     "execution_count": 161,
     "metadata": {},
     "output_type": "execute_result"
    }
   ],
   "source": [
    "xgb_performance_df"
   ]
  },
  {
   "cell_type": "code",
   "execution_count": 162,
   "id": "fb22fd74",
   "metadata": {},
   "outputs": [],
   "source": [
    "#function is used to transform the DataFrame performance_df from \"wide\" to \"long\" format. Specifically, it \"unpivots\" the DataFrame by melting the columns\n",
    "xgb_performance_df1 = pd.melt(xgb_performance_df, id_vars = \"Algorithm\")\n"
   ]
  },
  {
   "cell_type": "code",
   "execution_count": 163,
   "id": "1fef7351",
   "metadata": {},
   "outputs": [
    {
     "data": {
      "text/html": [
       "<div>\n",
       "<style scoped>\n",
       "    .dataframe tbody tr th:only-of-type {\n",
       "        vertical-align: middle;\n",
       "    }\n",
       "\n",
       "    .dataframe tbody tr th {\n",
       "        vertical-align: top;\n",
       "    }\n",
       "\n",
       "    .dataframe thead th {\n",
       "        text-align: right;\n",
       "    }\n",
       "</style>\n",
       "<table border=\"1\" class=\"dataframe\">\n",
       "  <thead>\n",
       "    <tr style=\"text-align: right;\">\n",
       "      <th></th>\n",
       "      <th>Algorithm</th>\n",
       "      <th>variable</th>\n",
       "      <th>value</th>\n",
       "    </tr>\n",
       "  </thead>\n",
       "  <tbody>\n",
       "    <tr>\n",
       "      <th>0</th>\n",
       "      <td>xgboost_DecisionTreeClassifier</td>\n",
       "      <td>Accuracy</td>\n",
       "      <td>0.973400</td>\n",
       "    </tr>\n",
       "    <tr>\n",
       "      <th>1</th>\n",
       "      <td>xgboost_RandomForestClassifier</td>\n",
       "      <td>Accuracy</td>\n",
       "      <td>0.943206</td>\n",
       "    </tr>\n",
       "    <tr>\n",
       "      <th>2</th>\n",
       "      <td>xgboost_DecisionTreeClassifier</td>\n",
       "      <td>Precision</td>\n",
       "      <td>0.974843</td>\n",
       "    </tr>\n",
       "    <tr>\n",
       "      <th>3</th>\n",
       "      <td>xgboost_RandomForestClassifier</td>\n",
       "      <td>Precision</td>\n",
       "      <td>0.916031</td>\n",
       "    </tr>\n",
       "    <tr>\n",
       "      <th>4</th>\n",
       "      <td>xgboost_DecisionTreeClassifier</td>\n",
       "      <td>F1</td>\n",
       "      <td>0.893372</td>\n",
       "    </tr>\n",
       "    <tr>\n",
       "      <th>5</th>\n",
       "      <td>xgboost_RandomForestClassifier</td>\n",
       "      <td>F1</td>\n",
       "      <td>0.752351</td>\n",
       "    </tr>\n",
       "    <tr>\n",
       "      <th>6</th>\n",
       "      <td>xgboost_DecisionTreeClassifier</td>\n",
       "      <td>Recall</td>\n",
       "      <td>0.824468</td>\n",
       "    </tr>\n",
       "    <tr>\n",
       "      <th>7</th>\n",
       "      <td>xgboost_RandomForestClassifier</td>\n",
       "      <td>Recall</td>\n",
       "      <td>0.638298</td>\n",
       "    </tr>\n",
       "  </tbody>\n",
       "</table>\n",
       "</div>"
      ],
      "text/plain": [
       "                        Algorithm   variable     value\n",
       "0  xgboost_DecisionTreeClassifier   Accuracy  0.973400\n",
       "1  xgboost_RandomForestClassifier   Accuracy  0.943206\n",
       "2  xgboost_DecisionTreeClassifier  Precision  0.974843\n",
       "3  xgboost_RandomForestClassifier  Precision  0.916031\n",
       "4  xgboost_DecisionTreeClassifier         F1  0.893372\n",
       "5  xgboost_RandomForestClassifier         F1  0.752351\n",
       "6  xgboost_DecisionTreeClassifier     Recall  0.824468\n",
       "7  xgboost_RandomForestClassifier     Recall  0.638298"
      ]
     },
     "execution_count": 163,
     "metadata": {},
     "output_type": "execute_result"
    }
   ],
   "source": [
    "xgb_performance_df1"
   ]
  },
  {
   "cell_type": "code",
   "execution_count": 164,
   "id": "ebf3417c",
   "metadata": {},
   "outputs": [
    {
     "data": {
      "image/png": "[encoded data removed]",
      "text/plain": [
       "<Figure size 441.75x360 with 1 Axes>"
      ]
     },
     "metadata": {
      "needs_background": "light"
     },
     "output_type": "display_data"
    }
   ],
   "source": [
    "#generates a bar plot using Seaborn's catplot() function to visualize the accuracy, precision and f1 scores of the classifiers stored in the DataFrame \n",
    "sns.catplot(x = 'Algorithm', y='value', \n",
    "               hue = 'variable',data=xgb_performance_df1, kind='bar',height=5)\n",
    "plt.ylim(0.5,1.0)\n",
    "plt.xticks(rotation='vertical')\n",
    "plt.show()"
   ]
  },
  {
   "cell_type": "markdown",
   "id": "c214a00b",
   "metadata": {},
   "source": [
    "# Set the max_features parameter to 3000 of TfIdf\n"
   ]
  },
  {
   "cell_type": "code",
   "execution_count": 173,
   "id": "980014a5",
   "metadata": {},
   "outputs": [],
   "source": [
    "#creates a new DataFrame temp_df with four columns: 'Algorithm', 'Accuracy_max_ft_3000', 'Precision_max_ft_3000', and 'F1_max_ft_3000'\n",
    "xgb_temp_df = pd.DataFrame({'Algorithm':clfs1.keys(),'Accuracy_max_ft_3000':accuracy_scores,'Precision_max_ft_3000':precision_scores,'F1_max_ft_3000':f1_scores, 'Recall_max_ft_3000':recall_scores}).sort_values('Precision_max_ft_3000',ascending=False)\n"
   ]
  },
  {
   "cell_type": "code",
   "execution_count": 174,
   "id": "00d436df",
   "metadata": {},
   "outputs": [
    {
     "data": {
      "text/html": [
       "<div>\n",
       "<style scoped>\n",
       "    .dataframe tbody tr th:only-of-type {\n",
       "        vertical-align: middle;\n",
       "    }\n",
       "\n",
       "    .dataframe tbody tr th {\n",
       "        vertical-align: top;\n",
       "    }\n",
       "\n",
       "    .dataframe thead th {\n",
       "        text-align: right;\n",
       "    }\n",
       "</style>\n",
       "<table border=\"1\" class=\"dataframe\">\n",
       "  <thead>\n",
       "    <tr style=\"text-align: right;\">\n",
       "      <th></th>\n",
       "      <th>Algorithm</th>\n",
       "      <th>Accuracy_max_ft_3000</th>\n",
       "      <th>Precision_max_ft_3000</th>\n",
       "      <th>F1_max_ft_3000</th>\n",
       "      <th>Recall_max_ft_3000</th>\n",
       "    </tr>\n",
       "  </thead>\n",
       "  <tbody>\n",
       "    <tr>\n",
       "      <th>0</th>\n",
       "      <td>xgboost_DecisionTreeClassifier</td>\n",
       "      <td>0.973400</td>\n",
       "      <td>0.968944</td>\n",
       "      <td>0.893983</td>\n",
       "      <td>0.829787</td>\n",
       "    </tr>\n",
       "    <tr>\n",
       "      <th>1</th>\n",
       "      <td>xgboost_RandomForestClassifier</td>\n",
       "      <td>0.938893</td>\n",
       "      <td>0.899225</td>\n",
       "      <td>0.731861</td>\n",
       "      <td>0.617021</td>\n",
       "    </tr>\n",
       "  </tbody>\n",
       "</table>\n",
       "</div>"
      ],
      "text/plain": [
       "                        Algorithm  Accuracy_max_ft_3000  \\\n",
       "0  xgboost_DecisionTreeClassifier              0.973400   \n",
       "1  xgboost_RandomForestClassifier              0.938893   \n",
       "\n",
       "   Precision_max_ft_3000  F1_max_ft_3000  Recall_max_ft_3000  \n",
       "0               0.968944        0.893983            0.829787  \n",
       "1               0.899225        0.731861            0.617021  "
      ]
     },
     "execution_count": 174,
     "metadata": {},
     "output_type": "execute_result"
    }
   ],
   "source": [
    "xgb_temp_df"
   ]
  },
  {
   "cell_type": "code",
   "execution_count": 175,
   "id": "f86e063a",
   "metadata": {},
   "outputs": [],
   "source": [
    "#function is used to transform the DataFrame performance_df from \"wide\" to \"long\" format. Specifically, it \"unpivots\" the DataFrame by melting the columns\n",
    "xgb_temp_df1 = pd.melt(xgb_temp_df, id_vars = \"Algorithm\")\n"
   ]
  },
  {
   "cell_type": "code",
   "execution_count": 176,
   "id": "1eca2204",
   "metadata": {},
   "outputs": [
    {
     "data": {
      "text/html": [
       "<div>\n",
       "<style scoped>\n",
       "    .dataframe tbody tr th:only-of-type {\n",
       "        vertical-align: middle;\n",
       "    }\n",
       "\n",
       "    .dataframe tbody tr th {\n",
       "        vertical-align: top;\n",
       "    }\n",
       "\n",
       "    .dataframe thead th {\n",
       "        text-align: right;\n",
       "    }\n",
       "</style>\n",
       "<table border=\"1\" class=\"dataframe\">\n",
       "  <thead>\n",
       "    <tr style=\"text-align: right;\">\n",
       "      <th></th>\n",
       "      <th>Algorithm</th>\n",
       "      <th>variable</th>\n",
       "      <th>value</th>\n",
       "    </tr>\n",
       "  </thead>\n",
       "  <tbody>\n",
       "    <tr>\n",
       "      <th>0</th>\n",
       "      <td>xgboost_DecisionTreeClassifier</td>\n",
       "      <td>Accuracy_max_ft_3000</td>\n",
       "      <td>0.973400</td>\n",
       "    </tr>\n",
       "    <tr>\n",
       "      <th>1</th>\n",
       "      <td>xgboost_RandomForestClassifier</td>\n",
       "      <td>Accuracy_max_ft_3000</td>\n",
       "      <td>0.938893</td>\n",
       "    </tr>\n",
       "    <tr>\n",
       "      <th>2</th>\n",
       "      <td>xgboost_DecisionTreeClassifier</td>\n",
       "      <td>Precision_max_ft_3000</td>\n",
       "      <td>0.968944</td>\n",
       "    </tr>\n",
       "    <tr>\n",
       "      <th>3</th>\n",
       "      <td>xgboost_RandomForestClassifier</td>\n",
       "      <td>Precision_max_ft_3000</td>\n",
       "      <td>0.899225</td>\n",
       "    </tr>\n",
       "    <tr>\n",
       "      <th>4</th>\n",
       "      <td>xgboost_DecisionTreeClassifier</td>\n",
       "      <td>F1_max_ft_3000</td>\n",
       "      <td>0.893983</td>\n",
       "    </tr>\n",
       "    <tr>\n",
       "      <th>5</th>\n",
       "      <td>xgboost_RandomForestClassifier</td>\n",
       "      <td>F1_max_ft_3000</td>\n",
       "      <td>0.731861</td>\n",
       "    </tr>\n",
       "    <tr>\n",
       "      <th>6</th>\n",
       "      <td>xgboost_DecisionTreeClassifier</td>\n",
       "      <td>Recall_max_ft_3000</td>\n",
       "      <td>0.829787</td>\n",
       "    </tr>\n",
       "    <tr>\n",
       "      <th>7</th>\n",
       "      <td>xgboost_RandomForestClassifier</td>\n",
       "      <td>Recall_max_ft_3000</td>\n",
       "      <td>0.617021</td>\n",
       "    </tr>\n",
       "  </tbody>\n",
       "</table>\n",
       "</div>"
      ],
      "text/plain": [
       "                        Algorithm               variable     value\n",
       "0  xgboost_DecisionTreeClassifier   Accuracy_max_ft_3000  0.973400\n",
       "1  xgboost_RandomForestClassifier   Accuracy_max_ft_3000  0.938893\n",
       "2  xgboost_DecisionTreeClassifier  Precision_max_ft_3000  0.968944\n",
       "3  xgboost_RandomForestClassifier  Precision_max_ft_3000  0.899225\n",
       "4  xgboost_DecisionTreeClassifier         F1_max_ft_3000  0.893983\n",
       "5  xgboost_RandomForestClassifier         F1_max_ft_3000  0.731861\n",
       "6  xgboost_DecisionTreeClassifier     Recall_max_ft_3000  0.829787\n",
       "7  xgboost_RandomForestClassifier     Recall_max_ft_3000  0.617021"
      ]
     },
     "execution_count": 176,
     "metadata": {},
     "output_type": "execute_result"
    }
   ],
   "source": [
    "xgb_temp_df1"
   ]
  },
  {
   "cell_type": "code",
   "execution_count": 177,
   "id": "a30eece9",
   "metadata": {},
   "outputs": [
    {
     "data": {
      "image/png": "[encoded data removed]",
      "text/plain": [
       "<Figure size 511.25x360 with 1 Axes>"
      ]
     },
     "metadata": {
      "needs_background": "light"
     },
     "output_type": "display_data"
    }
   ],
   "source": [
    "#generates a bar plot using Seaborn's catplot() function to visualize the accuracy, precision and f1 scores of the classifiers stored in the DataFrame \n",
    "sns.catplot(x = 'Algorithm', y='value', \n",
    "               hue = 'variable',data=xgb_temp_df1, kind='bar',height=5)\n",
    "plt.ylim(0.5,1.0)\n",
    "plt.xticks(rotation='vertical')\n",
    "plt.show()"
   ]
  },
  {
   "cell_type": "code",
   "execution_count": 178,
   "id": "a35a762d",
   "metadata": {},
   "outputs": [],
   "source": [
    "#merges the two DataFrames performance_df and temp_df on the 'Algorithm' column and creates a new DataFrame new_df.\n",
    "xgb_new_df = xgb_performance_df.merge(xgb_temp_df,on='Algorithm')"
   ]
  },
  {
   "cell_type": "code",
   "execution_count": 179,
   "id": "d0db7193",
   "metadata": {},
   "outputs": [
    {
     "data": {
      "text/html": [
       "<div>\n",
       "<style scoped>\n",
       "    .dataframe tbody tr th:only-of-type {\n",
       "        vertical-align: middle;\n",
       "    }\n",
       "\n",
       "    .dataframe tbody tr th {\n",
       "        vertical-align: top;\n",
       "    }\n",
       "\n",
       "    .dataframe thead th {\n",
       "        text-align: right;\n",
       "    }\n",
       "</style>\n",
       "<table border=\"1\" class=\"dataframe\">\n",
       "  <thead>\n",
       "    <tr style=\"text-align: right;\">\n",
       "      <th></th>\n",
       "      <th>Algorithm</th>\n",
       "      <th>Accuracy</th>\n",
       "      <th>Precision</th>\n",
       "      <th>F1</th>\n",
       "      <th>Recall</th>\n",
       "      <th>Accuracy_max_ft_3000</th>\n",
       "      <th>Precision_max_ft_3000</th>\n",
       "      <th>F1_max_ft_3000</th>\n",
       "      <th>Recall_max_ft_3000</th>\n",
       "    </tr>\n",
       "  </thead>\n",
       "  <tbody>\n",
       "    <tr>\n",
       "      <th>0</th>\n",
       "      <td>xgboost_DecisionTreeClassifier</td>\n",
       "      <td>0.973400</td>\n",
       "      <td>0.974843</td>\n",
       "      <td>0.893372</td>\n",
       "      <td>0.824468</td>\n",
       "      <td>0.973400</td>\n",
       "      <td>0.968944</td>\n",
       "      <td>0.893983</td>\n",
       "      <td>0.829787</td>\n",
       "    </tr>\n",
       "    <tr>\n",
       "      <th>1</th>\n",
       "      <td>xgboost_RandomForestClassifier</td>\n",
       "      <td>0.943206</td>\n",
       "      <td>0.916031</td>\n",
       "      <td>0.752351</td>\n",
       "      <td>0.638298</td>\n",
       "      <td>0.938893</td>\n",
       "      <td>0.899225</td>\n",
       "      <td>0.731861</td>\n",
       "      <td>0.617021</td>\n",
       "    </tr>\n",
       "  </tbody>\n",
       "</table>\n",
       "</div>"
      ],
      "text/plain": [
       "                        Algorithm  Accuracy  Precision        F1    Recall  \\\n",
       "0  xgboost_DecisionTreeClassifier  0.973400   0.974843  0.893372  0.824468   \n",
       "1  xgboost_RandomForestClassifier  0.943206   0.916031  0.752351  0.638298   \n",
       "\n",
       "   Accuracy_max_ft_3000  Precision_max_ft_3000  F1_max_ft_3000  \\\n",
       "0              0.973400               0.968944        0.893983   \n",
       "1              0.938893               0.899225        0.731861   \n",
       "\n",
       "   Recall_max_ft_3000  \n",
       "0            0.829787  \n",
       "1            0.617021  "
      ]
     },
     "execution_count": 179,
     "metadata": {},
     "output_type": "execute_result"
    }
   ],
   "source": [
    "xgb_new_df"
   ]
  },
  {
   "cell_type": "code",
   "execution_count": 180,
   "id": "7773858e",
   "metadata": {},
   "outputs": [],
   "source": [
    "#function is used to transform the DataFrame performance_df from \"wide\" to \"long\" format. Specifically, it \"unpivots\" the DataFrame by melting the columns\n",
    "xgb_temp_df2 = pd.melt(xgb_new_df, id_vars = \"Algorithm\")\n"
   ]
  },
  {
   "cell_type": "code",
   "execution_count": 181,
   "id": "1e80bc22",
   "metadata": {},
   "outputs": [
    {
     "data": {
      "image/png": "[encoded data removed]",
      "text/plain": [
       "<Figure size 511.25x360 with 1 Axes>"
      ]
     },
     "metadata": {
      "needs_background": "light"
     },
     "output_type": "display_data"
    }
   ],
   "source": [
    "#generates a bar plot using Seaborn's catplot() function to visualize the accuracy, precision and f1 scores of the classifiers stored in the DataFrame \n",
    "sns.catplot(x = 'Algorithm', y='value', \n",
    "               hue = 'variable',data=xgb_temp_df2, kind='bar',height=5)\n",
    "plt.ylim(0.5,1.0)\n",
    "plt.xticks(rotation='vertical')\n",
    "plt.show()"
   ]
  },
  {
   "cell_type": "code",
   "execution_count": null,
   "id": "6fdbc6e5",
   "metadata": {},
   "outputs": [],
   "source": []
  },
  {
   "cell_type": "code",
   "execution_count": null,
   "id": "22a0d6d7",
   "metadata": {},
   "outputs": [],
   "source": []
  },
  {
   "cell_type": "code",
   "execution_count": null,
   "id": "92024321",
   "metadata": {},
   "outputs": [],
   "source": []
  },
  {
   "cell_type": "code",
   "execution_count": null,
   "id": "becd39bc",
   "metadata": {},
   "outputs": [],
   "source": []
  },
  {
   "cell_type": "code",
   "execution_count": null,
   "id": "4c8e833d",
   "metadata": {},
   "outputs": [],
   "source": []
  }
 ],
 "metadata": {
  "kernelspec": {
   "display_name": "Python 3 (ipykernel)",
   "language": "python",
   "name": "python3"
  },
  "language_info": {
   "codemirror_mode": {
    "name": "ipython",
    "version": 3
   },
   "file_extension": ".py",
   "mimetype": "text/x-python",
   "name": "python",
   "nbconvert_exporter": "python",
   "pygments_lexer": "ipython3",
   "version": "3.9.7"
  }
 },
 "nbformat": 4,
 "nbformat_minor": 5
}
